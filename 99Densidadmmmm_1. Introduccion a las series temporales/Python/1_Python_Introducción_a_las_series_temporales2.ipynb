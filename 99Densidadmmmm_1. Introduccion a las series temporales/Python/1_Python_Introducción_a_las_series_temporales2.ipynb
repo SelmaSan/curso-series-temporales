{
  "nbformat": 4,
  "nbformat_minor": 0,
  "metadata": {
    "kernelspec": {
      "display_name": "Python 3",
      "language": "python",
      "name": "python3"
    },
    "language_info": {
      "codemirror_mode": {
        "name": "ipython",
        "version": 3
      },
      "file_extension": ".py",
      "mimetype": "text/x-python",
      "name": "python",
      "nbconvert_exporter": "python",
      "pygments_lexer": "ipython3",
      "version": "3.6.7"
    },
    "colab": {
      "name": "1. Python - Introducción a las series temporales .ipynb",
      "provenance": [],
      "collapsed_sections": []
    }
  },
  "cells": [
    {
      "cell_type": "markdown",
      "metadata": {
        "id": "OBM-5VY7We9Q",
        "colab_type": "text"
      },
      "source": [
        "### Import the Packages"
      ]
    },
    {
      "cell_type": "code",
      "metadata": {
        "id": "c2yqjxGwWe9R",
        "colab_type": "code",
        "colab": {}
      },
      "source": [
        "import pandas as pd \n",
        "import numpy as np\n",
        "#import matplotlib.pyplot as plt \n",
        "#import seaborn as sns\n",
        "#sns.set()"
      ],
      "execution_count": 7,
      "outputs": []
    },
    {
      "cell_type": "markdown",
      "metadata": {
        "id": "CVxwiA8OWe9V",
        "colab_type": "text"
      },
      "source": [
        "### Importing the Data"
      ]
    },
    {
      "cell_type": "code",
      "metadata": {
        "id": "2aZ4hKJkWe9V",
        "colab_type": "code",
        "colab": {}
      },
      "source": [
        "raw_csv_data = pd.read_csv(\"/content/drive/My Drive/Serietiempo/densidad.csv\", index_col='Fecha',parse_dates=True)"
      ],
      "execution_count": 30,
      "outputs": []
    },
    {
      "cell_type": "code",
      "metadata": {
        "id": "HesSDOjF5yji",
        "colab_type": "code",
        "colab": {
          "base_uri": "https://localhost:8080/",
          "height": 54
        },
        "outputId": "8bcd4788-edd9-45a6-b44e-60a683060718"
      },
      "source": [
        "from google.colab import drive\n",
        "drive.mount('/content/drive')"
      ],
      "execution_count": 9,
      "outputs": [
        {
          "output_type": "stream",
          "text": [
            "Drive already mounted at /content/drive; to attempt to forcibly remount, call drive.mount(\"/content/drive\", force_remount=True).\n"
          ],
          "name": "stdout"
        }
      ]
    },
    {
      "cell_type": "code",
      "metadata": {
        "id": "jvS0nEFhWe9Y",
        "colab_type": "code",
        "colab": {}
      },
      "source": [
        "df_comp = raw_csv_data.copy()"
      ],
      "execution_count": 31,
      "outputs": []
    },
    {
      "cell_type": "markdown",
      "metadata": {
        "id": "vRP2uEONWe9a",
        "colab_type": "text"
      },
      "source": [
        "### Examining the Data"
      ]
    },
    {
      "cell_type": "code",
      "metadata": {
        "scrolled": true,
        "id": "llUz-oOOWe9b",
        "colab_type": "code",
        "colab": {
          "base_uri": "https://localhost:8080/",
          "height": 235
        },
        "outputId": "72645802-bd20-45c6-896e-3db7b2a27b4a"
      },
      "source": [
        "df_comp.head()"
      ],
      "execution_count": 32,
      "outputs": [
        {
          "output_type": "execute_result",
          "data": {
            "text/html": [
              "<div>\n",
              "<style scoped>\n",
              "    .dataframe tbody tr th:only-of-type {\n",
              "        vertical-align: middle;\n",
              "    }\n",
              "\n",
              "    .dataframe tbody tr th {\n",
              "        vertical-align: top;\n",
              "    }\n",
              "\n",
              "    .dataframe thead th {\n",
              "        text-align: right;\n",
              "    }\n",
              "</style>\n",
              "<table border=\"1\" class=\"dataframe\">\n",
              "  <thead>\n",
              "    <tr style=\"text-align: right;\">\n",
              "      <th></th>\n",
              "      <th>Prom</th>\n",
              "      <th>Varianza</th>\n",
              "      <th>Desvest</th>\n",
              "      <th>N</th>\n",
              "      <th>ETM</th>\n",
              "    </tr>\n",
              "    <tr>\n",
              "      <th>Fecha</th>\n",
              "      <th></th>\n",
              "      <th></th>\n",
              "      <th></th>\n",
              "      <th></th>\n",
              "      <th></th>\n",
              "    </tr>\n",
              "  </thead>\n",
              "  <tbody>\n",
              "    <tr>\n",
              "      <th>1996-04-20</th>\n",
              "      <td>3.142210</td>\n",
              "      <td>0.535013</td>\n",
              "      <td>0.731446</td>\n",
              "      <td>2</td>\n",
              "      <td>0.517210</td>\n",
              "    </tr>\n",
              "    <tr>\n",
              "      <th>1996-05-30</th>\n",
              "      <td>2.781250</td>\n",
              "      <td>0.236328</td>\n",
              "      <td>0.486136</td>\n",
              "      <td>2</td>\n",
              "      <td>0.343750</td>\n",
              "    </tr>\n",
              "    <tr>\n",
              "      <th>1996-06-29</th>\n",
              "      <td>2.937500</td>\n",
              "      <td>0.125000</td>\n",
              "      <td>0.353553</td>\n",
              "      <td>2</td>\n",
              "      <td>0.250000</td>\n",
              "    </tr>\n",
              "    <tr>\n",
              "      <th>1996-08-14</th>\n",
              "      <td>3.462798</td>\n",
              "      <td>6.303363</td>\n",
              "      <td>2.510650</td>\n",
              "      <td>2</td>\n",
              "      <td>1.775298</td>\n",
              "    </tr>\n",
              "    <tr>\n",
              "      <th>1996-08-30</th>\n",
              "      <td>16.265625</td>\n",
              "      <td>377.266113</td>\n",
              "      <td>19.423339</td>\n",
              "      <td>2</td>\n",
              "      <td>13.734375</td>\n",
              "    </tr>\n",
              "  </tbody>\n",
              "</table>\n",
              "</div>"
            ],
            "text/plain": [
              "                 Prom    Varianza    Desvest  N        ETM\n",
              "Fecha                                                     \n",
              "1996-04-20   3.142210    0.535013   0.731446  2   0.517210\n",
              "1996-05-30   2.781250    0.236328   0.486136  2   0.343750\n",
              "1996-06-29   2.937500    0.125000   0.353553  2   0.250000\n",
              "1996-08-14   3.462798    6.303363   2.510650  2   1.775298\n",
              "1996-08-30  16.265625  377.266113  19.423339  2  13.734375"
            ]
          },
          "metadata": {
            "tags": []
          },
          "execution_count": 32
        }
      ]
    },
    {
      "cell_type": "code",
      "metadata": {
        "id": "yvRBeKE3We9e",
        "colab_type": "code",
        "colab": {
          "base_uri": "https://localhost:8080/",
          "height": 450
        },
        "outputId": "4c94925c-8aad-46df-eea0-f68d16048500"
      },
      "source": [
        "df_comp"
      ],
      "execution_count": 33,
      "outputs": [
        {
          "output_type": "execute_result",
          "data": {
            "text/html": [
              "<div>\n",
              "<style scoped>\n",
              "    .dataframe tbody tr th:only-of-type {\n",
              "        vertical-align: middle;\n",
              "    }\n",
              "\n",
              "    .dataframe tbody tr th {\n",
              "        vertical-align: top;\n",
              "    }\n",
              "\n",
              "    .dataframe thead th {\n",
              "        text-align: right;\n",
              "    }\n",
              "</style>\n",
              "<table border=\"1\" class=\"dataframe\">\n",
              "  <thead>\n",
              "    <tr style=\"text-align: right;\">\n",
              "      <th></th>\n",
              "      <th>Prom</th>\n",
              "      <th>Varianza</th>\n",
              "      <th>Desvest</th>\n",
              "      <th>N</th>\n",
              "      <th>ETM</th>\n",
              "    </tr>\n",
              "    <tr>\n",
              "      <th>Fecha</th>\n",
              "      <th></th>\n",
              "      <th></th>\n",
              "      <th></th>\n",
              "      <th></th>\n",
              "      <th></th>\n",
              "    </tr>\n",
              "  </thead>\n",
              "  <tbody>\n",
              "    <tr>\n",
              "      <th>1996-04-20</th>\n",
              "      <td>3.142210</td>\n",
              "      <td>0.535013</td>\n",
              "      <td>0.731446</td>\n",
              "      <td>2</td>\n",
              "      <td>0.517210</td>\n",
              "    </tr>\n",
              "    <tr>\n",
              "      <th>1996-05-30</th>\n",
              "      <td>2.781250</td>\n",
              "      <td>0.236328</td>\n",
              "      <td>0.486136</td>\n",
              "      <td>2</td>\n",
              "      <td>0.343750</td>\n",
              "    </tr>\n",
              "    <tr>\n",
              "      <th>1996-06-29</th>\n",
              "      <td>2.937500</td>\n",
              "      <td>0.125000</td>\n",
              "      <td>0.353553</td>\n",
              "      <td>2</td>\n",
              "      <td>0.250000</td>\n",
              "    </tr>\n",
              "    <tr>\n",
              "      <th>1996-08-14</th>\n",
              "      <td>3.462798</td>\n",
              "      <td>6.303363</td>\n",
              "      <td>2.510650</td>\n",
              "      <td>2</td>\n",
              "      <td>1.775298</td>\n",
              "    </tr>\n",
              "    <tr>\n",
              "      <th>1996-08-30</th>\n",
              "      <td>16.265625</td>\n",
              "      <td>377.266113</td>\n",
              "      <td>19.423339</td>\n",
              "      <td>2</td>\n",
              "      <td>13.734375</td>\n",
              "    </tr>\n",
              "    <tr>\n",
              "      <th>...</th>\n",
              "      <td>...</td>\n",
              "      <td>...</td>\n",
              "      <td>...</td>\n",
              "      <td>...</td>\n",
              "      <td>...</td>\n",
              "    </tr>\n",
              "    <tr>\n",
              "      <th>2007-01-19</th>\n",
              "      <td>61.833333</td>\n",
              "      <td>311.766667</td>\n",
              "      <td>17.656916</td>\n",
              "      <td>6</td>\n",
              "      <td>7.208406</td>\n",
              "    </tr>\n",
              "    <tr>\n",
              "      <th>2007-02-16</th>\n",
              "      <td>46.666667</td>\n",
              "      <td>395.866667</td>\n",
              "      <td>19.896398</td>\n",
              "      <td>6</td>\n",
              "      <td>8.122671</td>\n",
              "    </tr>\n",
              "    <tr>\n",
              "      <th>2007-03-19</th>\n",
              "      <td>59.666667</td>\n",
              "      <td>1017.866667</td>\n",
              "      <td>31.904023</td>\n",
              "      <td>6</td>\n",
              "      <td>13.024763</td>\n",
              "    </tr>\n",
              "    <tr>\n",
              "      <th>2007-04-14</th>\n",
              "      <td>60.833333</td>\n",
              "      <td>184.166667</td>\n",
              "      <td>13.570802</td>\n",
              "      <td>6</td>\n",
              "      <td>5.540257</td>\n",
              "    </tr>\n",
              "    <tr>\n",
              "      <th>2007-06-14</th>\n",
              "      <td>39.833333</td>\n",
              "      <td>210.966667</td>\n",
              "      <td>14.524692</td>\n",
              "      <td>6</td>\n",
              "      <td>5.929681</td>\n",
              "    </tr>\n",
              "  </tbody>\n",
              "</table>\n",
              "<p>110 rows × 5 columns</p>\n",
              "</div>"
            ],
            "text/plain": [
              "                 Prom     Varianza    Desvest  N        ETM\n",
              "Fecha                                                      \n",
              "1996-04-20   3.142210     0.535013   0.731446  2   0.517210\n",
              "1996-05-30   2.781250     0.236328   0.486136  2   0.343750\n",
              "1996-06-29   2.937500     0.125000   0.353553  2   0.250000\n",
              "1996-08-14   3.462798     6.303363   2.510650  2   1.775298\n",
              "1996-08-30  16.265625   377.266113  19.423339  2  13.734375\n",
              "...               ...          ...        ... ..        ...\n",
              "2007-01-19  61.833333   311.766667  17.656916  6   7.208406\n",
              "2007-02-16  46.666667   395.866667  19.896398  6   8.122671\n",
              "2007-03-19  59.666667  1017.866667  31.904023  6  13.024763\n",
              "2007-04-14  60.833333   184.166667  13.570802  6   5.540257\n",
              "2007-06-14  39.833333   210.966667  14.524692  6   5.929681\n",
              "\n",
              "[110 rows x 5 columns]"
            ]
          },
          "metadata": {
            "tags": []
          },
          "execution_count": 33
        }
      ]
    },
    {
      "cell_type": "code",
      "metadata": {
        "scrolled": true,
        "id": "ZrAUBCJ3We9i",
        "colab_type": "code",
        "colab": {
          "base_uri": "https://localhost:8080/",
          "height": 297
        },
        "outputId": "2038783d-5538-4481-badd-6fddb3c3f4c7"
      },
      "source": [
        "df_comp.describe()"
      ],
      "execution_count": 34,
      "outputs": [
        {
          "output_type": "execute_result",
          "data": {
            "text/html": [
              "<div>\n",
              "<style scoped>\n",
              "    .dataframe tbody tr th:only-of-type {\n",
              "        vertical-align: middle;\n",
              "    }\n",
              "\n",
              "    .dataframe tbody tr th {\n",
              "        vertical-align: top;\n",
              "    }\n",
              "\n",
              "    .dataframe thead th {\n",
              "        text-align: right;\n",
              "    }\n",
              "</style>\n",
              "<table border=\"1\" class=\"dataframe\">\n",
              "  <thead>\n",
              "    <tr style=\"text-align: right;\">\n",
              "      <th></th>\n",
              "      <th>Prom</th>\n",
              "      <th>Varianza</th>\n",
              "      <th>Desvest</th>\n",
              "      <th>N</th>\n",
              "      <th>ETM</th>\n",
              "    </tr>\n",
              "  </thead>\n",
              "  <tbody>\n",
              "    <tr>\n",
              "      <th>count</th>\n",
              "      <td>110.000000</td>\n",
              "      <td>110.000000</td>\n",
              "      <td>110.000000</td>\n",
              "      <td>110.000000</td>\n",
              "      <td>110.000000</td>\n",
              "    </tr>\n",
              "    <tr>\n",
              "      <th>mean</th>\n",
              "      <td>25.546142</td>\n",
              "      <td>295.059822</td>\n",
              "      <td>13.826744</td>\n",
              "      <td>4.945455</td>\n",
              "      <td>6.461186</td>\n",
              "    </tr>\n",
              "    <tr>\n",
              "      <th>std</th>\n",
              "      <td>20.274300</td>\n",
              "      <td>385.693448</td>\n",
              "      <td>10.238848</td>\n",
              "      <td>1.669128</td>\n",
              "      <td>5.436872</td>\n",
              "    </tr>\n",
              "    <tr>\n",
              "      <th>min</th>\n",
              "      <td>0.000000</td>\n",
              "      <td>0.000000</td>\n",
              "      <td>0.000000</td>\n",
              "      <td>1.000000</td>\n",
              "      <td>0.000000</td>\n",
              "    </tr>\n",
              "    <tr>\n",
              "      <th>25%</th>\n",
              "      <td>9.988281</td>\n",
              "      <td>32.630495</td>\n",
              "      <td>5.711673</td>\n",
              "      <td>4.250000</td>\n",
              "      <td>2.512915</td>\n",
              "    </tr>\n",
              "    <tr>\n",
              "      <th>50%</th>\n",
              "      <td>21.916667</td>\n",
              "      <td>166.416667</td>\n",
              "      <td>12.900257</td>\n",
              "      <td>6.000000</td>\n",
              "      <td>5.558995</td>\n",
              "    </tr>\n",
              "    <tr>\n",
              "      <th>75%</th>\n",
              "      <td>37.708333</td>\n",
              "      <td>396.466667</td>\n",
              "      <td>19.911469</td>\n",
              "      <td>6.000000</td>\n",
              "      <td>8.178192</td>\n",
              "    </tr>\n",
              "    <tr>\n",
              "      <th>max</th>\n",
              "      <td>88.000000</td>\n",
              "      <td>2295.333333</td>\n",
              "      <td>47.909637</td>\n",
              "      <td>6.000000</td>\n",
              "      <td>31.088941</td>\n",
              "    </tr>\n",
              "  </tbody>\n",
              "</table>\n",
              "</div>"
            ],
            "text/plain": [
              "             Prom     Varianza     Desvest           N         ETM\n",
              "count  110.000000   110.000000  110.000000  110.000000  110.000000\n",
              "mean    25.546142   295.059822   13.826744    4.945455    6.461186\n",
              "std     20.274300   385.693448   10.238848    1.669128    5.436872\n",
              "min      0.000000     0.000000    0.000000    1.000000    0.000000\n",
              "25%      9.988281    32.630495    5.711673    4.250000    2.512915\n",
              "50%     21.916667   166.416667   12.900257    6.000000    5.558995\n",
              "75%     37.708333   396.466667   19.911469    6.000000    8.178192\n",
              "max     88.000000  2295.333333   47.909637    6.000000   31.088941"
            ]
          },
          "metadata": {
            "tags": []
          },
          "execution_count": 34
        }
      ]
    },
    {
      "cell_type": "code",
      "metadata": {
        "id": "TiOry5_xieO2",
        "colab_type": "code",
        "colab": {
          "base_uri": "https://localhost:8080/",
          "height": 269
        },
        "outputId": "30898846-6b70-4ec2-a094-12d6c6a0ad43"
      },
      "source": [
        "df_comp.plot();"
      ],
      "execution_count": 44,
      "outputs": [
        {
          "output_type": "display_data",
          "data": {
            "image/png": "[encoded data removed]",
            "text/plain": [
              "<Figure size 432x288 with 1 Axes>"
            ]
          },
          "metadata": {
            "tags": [],
            "needs_background": "light"
          }
        }
      ]
    },
    {
      "cell_type": "code",
      "metadata": {
        "id": "SWyYZP3bWe9l",
        "colab_type": "code",
        "colab": {
          "base_uri": "https://localhost:8080/",
          "height": 450
        },
        "outputId": "592bd453-584c-42f6-f1ce-f1dc78afb3a4"
      },
      "source": [
        "df_comp.isna()"
      ],
      "execution_count": 45,
      "outputs": [
        {
          "output_type": "execute_result",
          "data": {
            "text/html": [
              "<div>\n",
              "<style scoped>\n",
              "    .dataframe tbody tr th:only-of-type {\n",
              "        vertical-align: middle;\n",
              "    }\n",
              "\n",
              "    .dataframe tbody tr th {\n",
              "        vertical-align: top;\n",
              "    }\n",
              "\n",
              "    .dataframe thead th {\n",
              "        text-align: right;\n",
              "    }\n",
              "</style>\n",
              "<table border=\"1\" class=\"dataframe\">\n",
              "  <thead>\n",
              "    <tr style=\"text-align: right;\">\n",
              "      <th></th>\n",
              "      <th>Prom</th>\n",
              "      <th>Varianza</th>\n",
              "      <th>Desvest</th>\n",
              "      <th>N</th>\n",
              "      <th>ETM</th>\n",
              "    </tr>\n",
              "    <tr>\n",
              "      <th>Fecha</th>\n",
              "      <th></th>\n",
              "      <th></th>\n",
              "      <th></th>\n",
              "      <th></th>\n",
              "      <th></th>\n",
              "    </tr>\n",
              "  </thead>\n",
              "  <tbody>\n",
              "    <tr>\n",
              "      <th>1996-04-20</th>\n",
              "      <td>False</td>\n",
              "      <td>False</td>\n",
              "      <td>False</td>\n",
              "      <td>False</td>\n",
              "      <td>False</td>\n",
              "    </tr>\n",
              "    <tr>\n",
              "      <th>1996-05-30</th>\n",
              "      <td>False</td>\n",
              "      <td>False</td>\n",
              "      <td>False</td>\n",
              "      <td>False</td>\n",
              "      <td>False</td>\n",
              "    </tr>\n",
              "    <tr>\n",
              "      <th>1996-06-29</th>\n",
              "      <td>False</td>\n",
              "      <td>False</td>\n",
              "      <td>False</td>\n",
              "      <td>False</td>\n",
              "      <td>False</td>\n",
              "    </tr>\n",
              "    <tr>\n",
              "      <th>1996-08-14</th>\n",
              "      <td>False</td>\n",
              "      <td>False</td>\n",
              "      <td>False</td>\n",
              "      <td>False</td>\n",
              "      <td>False</td>\n",
              "    </tr>\n",
              "    <tr>\n",
              "      <th>1996-08-30</th>\n",
              "      <td>False</td>\n",
              "      <td>False</td>\n",
              "      <td>False</td>\n",
              "      <td>False</td>\n",
              "      <td>False</td>\n",
              "    </tr>\n",
              "    <tr>\n",
              "      <th>...</th>\n",
              "      <td>...</td>\n",
              "      <td>...</td>\n",
              "      <td>...</td>\n",
              "      <td>...</td>\n",
              "      <td>...</td>\n",
              "    </tr>\n",
              "    <tr>\n",
              "      <th>2007-01-19</th>\n",
              "      <td>False</td>\n",
              "      <td>False</td>\n",
              "      <td>False</td>\n",
              "      <td>False</td>\n",
              "      <td>False</td>\n",
              "    </tr>\n",
              "    <tr>\n",
              "      <th>2007-02-16</th>\n",
              "      <td>False</td>\n",
              "      <td>False</td>\n",
              "      <td>False</td>\n",
              "      <td>False</td>\n",
              "      <td>False</td>\n",
              "    </tr>\n",
              "    <tr>\n",
              "      <th>2007-03-19</th>\n",
              "      <td>False</td>\n",
              "      <td>False</td>\n",
              "      <td>False</td>\n",
              "      <td>False</td>\n",
              "      <td>False</td>\n",
              "    </tr>\n",
              "    <tr>\n",
              "      <th>2007-04-14</th>\n",
              "      <td>False</td>\n",
              "      <td>False</td>\n",
              "      <td>False</td>\n",
              "      <td>False</td>\n",
              "      <td>False</td>\n",
              "    </tr>\n",
              "    <tr>\n",
              "      <th>2007-06-14</th>\n",
              "      <td>False</td>\n",
              "      <td>False</td>\n",
              "      <td>False</td>\n",
              "      <td>False</td>\n",
              "      <td>False</td>\n",
              "    </tr>\n",
              "  </tbody>\n",
              "</table>\n",
              "<p>110 rows × 5 columns</p>\n",
              "</div>"
            ],
            "text/plain": [
              "             Prom  Varianza  Desvest      N    ETM\n",
              "Fecha                                             \n",
              "1996-04-20  False     False    False  False  False\n",
              "1996-05-30  False     False    False  False  False\n",
              "1996-06-29  False     False    False  False  False\n",
              "1996-08-14  False     False    False  False  False\n",
              "1996-08-30  False     False    False  False  False\n",
              "...           ...       ...      ...    ...    ...\n",
              "2007-01-19  False     False    False  False  False\n",
              "2007-02-16  False     False    False  False  False\n",
              "2007-03-19  False     False    False  False  False\n",
              "2007-04-14  False     False    False  False  False\n",
              "2007-06-14  False     False    False  False  False\n",
              "\n",
              "[110 rows x 5 columns]"
            ]
          },
          "metadata": {
            "tags": []
          },
          "execution_count": 45
        }
      ]
    },
    {
      "cell_type": "code",
      "metadata": {
        "id": "CUs5klc4bhga",
        "colab_type": "code",
        "colab": {
          "base_uri": "https://localhost:8080/",
          "height": 119
        },
        "outputId": "23d56a26-9462-4e27-f6c8-b9cdddcc7892"
      },
      "source": [
        "df_comp.isna().sum()"
      ],
      "execution_count": 46,
      "outputs": [
        {
          "output_type": "execute_result",
          "data": {
            "text/plain": [
              "Prom        0\n",
              "Varianza    0\n",
              "Desvest     0\n",
              "N           0\n",
              "ETM         0\n",
              "dtype: int64"
            ]
          },
          "metadata": {
            "tags": []
          },
          "execution_count": 46
        }
      ]
    },
    {
      "cell_type": "code",
      "metadata": {
        "id": "4gygofroWe9o",
        "colab_type": "code",
        "colab": {
          "base_uri": "https://localhost:8080/",
          "height": 34
        },
        "outputId": "46fb7996-2648-4df1-c781-ea70afd91ffc"
      },
      "source": [
        "df_comp.Prom.isna().sum()"
      ],
      "execution_count": 47,
      "outputs": [
        {
          "output_type": "execute_result",
          "data": {
            "text/plain": [
              "0"
            ]
          },
          "metadata": {
            "tags": []
          },
          "execution_count": 47
        }
      ]
    },
    {
      "cell_type": "markdown",
      "metadata": {
        "id": "Qa0G2oeWWe9q",
        "colab_type": "text"
      },
      "source": [
        "### Plotting the Data"
      ]
    },
    {
      "cell_type": "code",
      "metadata": {
        "id": "wAAq3k0fWe9r",
        "colab_type": "code",
        "colab": {}
      },
      "source": [
        "import matplotlib.pyplot as plt"
      ],
      "execution_count": 38,
      "outputs": []
    },
    {
      "cell_type": "code",
      "metadata": {
        "scrolled": false,
        "id": "Ovp4vaH0We9t",
        "colab_type": "code",
        "colab": {
          "base_uri": "https://localhost:8080/",
          "height": 277
        },
        "outputId": "ba8d0a97-ae7f-4953-ba27-436414e7ebed"
      },
      "source": [
        "df_comp.Prom.plot(figsize=(20,5), title = \"Densidad promedio\")\n",
        "plt.show()"
      ],
      "execution_count": 51,
      "outputs": [
        {
          "output_type": "display_data",
          "data": {
            "image/png": "[encoded data removed]",
            "text/plain": [
              "<Figure size 1440x360 with 1 Axes>"
            ]
          },
          "metadata": {
            "tags": [],
            "needs_background": "light"
          }
        }
      ]
    },
    {
      "cell_type": "code",
      "metadata": {
        "id": "2R3l-1dUWe9w",
        "colab_type": "code",
        "colab": {
          "base_uri": "https://localhost:8080/",
          "height": 274
        },
        "outputId": "a5b774a5-ff01-4508-eb9f-a2e3d1b4cfe6"
      },
      "source": [
        "df_comp.Varianza.plot(figsize=(20,5), title = \"Varianza\")\n",
        "plt.show()"
      ],
      "execution_count": 50,
      "outputs": [
        {
          "output_type": "display_data",
          "data": {
            "image/png": "[encoded data removed]",
            "text/plain": [
              "<Figure size 1440x360 with 1 Axes>"
            ]
          },
          "metadata": {
            "tags": [],
            "needs_background": "light"
          }
        }
      ]
    },
    {
      "cell_type": "code",
      "metadata": {
        "scrolled": false,
        "id": "5d3gqOcJWe9z",
        "colab_type": "code",
        "colab": {
          "base_uri": "https://localhost:8080/",
          "height": 274
        },
        "outputId": "4de4a33d-c481-4179-edc4-5c2ec5da80f8"
      },
      "source": [
        "df_comp.Prom.plot(figsize=(20,5), title = \"Densidad promedio\")\n",
        "df_comp.Varianza.plot(figsize=(20,5), title = \"Varianza\")\n",
        "plt.title(\"Prom vs Varianza\")\n",
        "plt.show()"
      ],
      "execution_count": 41,
      "outputs": [
        {
          "output_type": "display_data",
          "data": {
            "image/png": "[encoded data removed]",
            "text/plain": [
              "<Figure size 1440x360 with 1 Axes>"
            ]
          },
          "metadata": {
            "tags": [],
            "needs_background": "light"
          }
        }
      ]
    },
    {
      "cell_type": "markdown",
      "metadata": {
        "id": "-DlvG_FYWe91",
        "colab_type": "text"
      },
      "source": [
        "### The QQ Plot"
      ]
    },
    {
      "cell_type": "code",
      "metadata": {
        "id": "Rk7JNzWiWe92",
        "colab_type": "code",
        "colab": {}
      },
      "source": [
        "import scipy.stats\n"
      ],
      "execution_count": 42,
      "outputs": []
    },
    {
      "cell_type": "code",
      "metadata": {
        "id": "EJ0OTP3yWe95",
        "colab_type": "code",
        "colab": {
          "base_uri": "https://localhost:8080/",
          "height": 304
        },
        "outputId": "c83d0621-ccdf-498b-eb72-ee7da7ad68cb"
      },
      "source": [
        "scipy.stats.probplot(df_comp.Prom, plot =  plt)\n",
        "plt.title(\"QQ Plot\", size = 24)\n",
        "plt.show()"
      ],
      "execution_count": 43,
      "outputs": [
        {
          "output_type": "display_data",
          "data": {
            "image/png": "[encoded data removed]",
            "text/plain": [
              "<Figure size 432x288 with 1 Axes>"
            ]
          },
          "metadata": {
            "tags": [],
            "needs_background": "light"
          }
        }
      ]
    },
    {
      "cell_type": "markdown",
      "metadata": {
        "id": "4GFGMw_EUD7n",
        "colab_type": "text"
      },
      "source": [
        "No se ajustan a una distribución normal"
      ]
    },
    {
      "cell_type": "markdown",
      "metadata": {
        "id": "PKz95Y5vVY1v",
        "colab_type": "text"
      },
      "source": [
        "Transformamos de texto a fecha, dayfirst = True esto es para indicar que primero está el día y luego mes en mi data"
      ]
    },
    {
      "cell_type": "code",
      "metadata": {
        "id": "7OPA-Xm9VfDe",
        "colab_type": "code",
        "colab": {
          "base_uri": "https://localhost:8080/",
          "height": 71
        },
        "outputId": "ea6db2bf-0d39-4543-97fd-7f8c48932e31"
      },
      "source": [
        "df_comp.date = pd.to_datetime(df_comp.Fecha, dayfirst = True)"
      ],
      "execution_count": 19,
      "outputs": [
        {
          "output_type": "stream",
          "text": [
            "/usr/local/lib/python3.6/dist-packages/ipykernel_launcher.py:1: UserWarning: Pandas doesn't allow columns to be created via a new attribute name - see https://pandas.pydata.org/pandas-docs/stable/indexing.html#attribute-access\n",
            "  \"\"\"Entry point for launching an IPython kernel.\n"
          ],
          "name": "stderr"
        }
      ]
    },
    {
      "cell_type": "code",
      "metadata": {
        "id": "Jn1j09yFV-5N",
        "colab_type": "code",
        "colab": {
          "base_uri": "https://localhost:8080/",
          "height": 204
        },
        "outputId": "ba994c6e-0016-4a0d-d195-22fbbd10e18f"
      },
      "source": [
        "df_comp.head()"
      ],
      "execution_count": 20,
      "outputs": [
        {
          "output_type": "execute_result",
          "data": {
            "text/html": [
              "<div>\n",
              "<style scoped>\n",
              "    .dataframe tbody tr th:only-of-type {\n",
              "        vertical-align: middle;\n",
              "    }\n",
              "\n",
              "    .dataframe tbody tr th {\n",
              "        vertical-align: top;\n",
              "    }\n",
              "\n",
              "    .dataframe thead th {\n",
              "        text-align: right;\n",
              "    }\n",
              "</style>\n",
              "<table border=\"1\" class=\"dataframe\">\n",
              "  <thead>\n",
              "    <tr style=\"text-align: right;\">\n",
              "      <th></th>\n",
              "      <th>Fecha</th>\n",
              "      <th>Prom</th>\n",
              "      <th>Varianza</th>\n",
              "      <th>Desvest</th>\n",
              "      <th>N</th>\n",
              "      <th>ETM</th>\n",
              "    </tr>\n",
              "  </thead>\n",
              "  <tbody>\n",
              "    <tr>\n",
              "      <th>0</th>\n",
              "      <td>20/04/1996</td>\n",
              "      <td>3.142210</td>\n",
              "      <td>0.535013</td>\n",
              "      <td>0.731446</td>\n",
              "      <td>2</td>\n",
              "      <td>0.517210</td>\n",
              "    </tr>\n",
              "    <tr>\n",
              "      <th>1</th>\n",
              "      <td>30/05/1996</td>\n",
              "      <td>2.781250</td>\n",
              "      <td>0.236328</td>\n",
              "      <td>0.486136</td>\n",
              "      <td>2</td>\n",
              "      <td>0.343750</td>\n",
              "    </tr>\n",
              "    <tr>\n",
              "      <th>2</th>\n",
              "      <td>29/06/1996</td>\n",
              "      <td>2.937500</td>\n",
              "      <td>0.125000</td>\n",
              "      <td>0.353553</td>\n",
              "      <td>2</td>\n",
              "      <td>0.250000</td>\n",
              "    </tr>\n",
              "    <tr>\n",
              "      <th>3</th>\n",
              "      <td>14/08/1996</td>\n",
              "      <td>3.462798</td>\n",
              "      <td>6.303363</td>\n",
              "      <td>2.510650</td>\n",
              "      <td>2</td>\n",
              "      <td>1.775298</td>\n",
              "    </tr>\n",
              "    <tr>\n",
              "      <th>4</th>\n",
              "      <td>30/08/1996</td>\n",
              "      <td>16.265625</td>\n",
              "      <td>377.266113</td>\n",
              "      <td>19.423339</td>\n",
              "      <td>2</td>\n",
              "      <td>13.734375</td>\n",
              "    </tr>\n",
              "  </tbody>\n",
              "</table>\n",
              "</div>"
            ],
            "text/plain": [
              "        Fecha       Prom    Varianza    Desvest  N        ETM\n",
              "0  20/04/1996   3.142210    0.535013   0.731446  2   0.517210\n",
              "1  30/05/1996   2.781250    0.236328   0.486136  2   0.343750\n",
              "2  29/06/1996   2.937500    0.125000   0.353553  2   0.250000\n",
              "3  14/08/1996   3.462798    6.303363   2.510650  2   1.775298\n",
              "4  30/08/1996  16.265625  377.266113  19.423339  2  13.734375"
            ]
          },
          "metadata": {
            "tags": []
          },
          "execution_count": 20
        }
      ]
    },
    {
      "cell_type": "code",
      "metadata": {
        "id": "9WtDMMsPb-ro",
        "colab_type": "code",
        "colab": {
          "base_uri": "https://localhost:8080/",
          "height": 136
        },
        "outputId": "da20c606-3ca0-4987-d472-b7f7ae2281ad"
      },
      "source": [
        "df_comp.date.describe()"
      ],
      "execution_count": 21,
      "outputs": [
        {
          "output_type": "execute_result",
          "data": {
            "text/plain": [
              "count                     110\n",
              "unique                    110\n",
              "top       2006-03-30 00:00:00\n",
              "freq                        1\n",
              "first     1996-04-20 00:00:00\n",
              "last      2007-06-14 00:00:00\n",
              "Name: Fecha, dtype: object"
            ]
          },
          "metadata": {
            "tags": []
          },
          "execution_count": 21
        }
      ]
    },
    {
      "cell_type": "markdown",
      "metadata": {
        "id": "e-wsxxT3cM_2",
        "colab_type": "text"
      },
      "source": [
        "Poniendo fecha como un indice"
      ]
    },
    {
      "cell_type": "code",
      "metadata": {
        "id": "vIcFbENWcSKF",
        "colab_type": "code",
        "colab": {}
      },
      "source": [
        "df_comp.set_index(\"Fecha\", inplace=True)"
      ],
      "execution_count": 23,
      "outputs": []
    },
    {
      "cell_type": "code",
      "metadata": {
        "id": "lec_4iGpci3x",
        "colab_type": "code",
        "colab": {
          "base_uri": "https://localhost:8080/",
          "height": 235
        },
        "outputId": "682f4691-bd30-4023-e93f-4ef641903966"
      },
      "source": [
        "df_comp.head()"
      ],
      "execution_count": 24,
      "outputs": [
        {
          "output_type": "execute_result",
          "data": {
            "text/html": [
              "<div>\n",
              "<style scoped>\n",
              "    .dataframe tbody tr th:only-of-type {\n",
              "        vertical-align: middle;\n",
              "    }\n",
              "\n",
              "    .dataframe tbody tr th {\n",
              "        vertical-align: top;\n",
              "    }\n",
              "\n",
              "    .dataframe thead th {\n",
              "        text-align: right;\n",
              "    }\n",
              "</style>\n",
              "<table border=\"1\" class=\"dataframe\">\n",
              "  <thead>\n",
              "    <tr style=\"text-align: right;\">\n",
              "      <th></th>\n",
              "      <th>Prom</th>\n",
              "      <th>Varianza</th>\n",
              "      <th>Desvest</th>\n",
              "      <th>N</th>\n",
              "      <th>ETM</th>\n",
              "    </tr>\n",
              "    <tr>\n",
              "      <th>Fecha</th>\n",
              "      <th></th>\n",
              "      <th></th>\n",
              "      <th></th>\n",
              "      <th></th>\n",
              "      <th></th>\n",
              "    </tr>\n",
              "  </thead>\n",
              "  <tbody>\n",
              "    <tr>\n",
              "      <th>20/04/1996</th>\n",
              "      <td>3.142210</td>\n",
              "      <td>0.535013</td>\n",
              "      <td>0.731446</td>\n",
              "      <td>2</td>\n",
              "      <td>0.517210</td>\n",
              "    </tr>\n",
              "    <tr>\n",
              "      <th>30/05/1996</th>\n",
              "      <td>2.781250</td>\n",
              "      <td>0.236328</td>\n",
              "      <td>0.486136</td>\n",
              "      <td>2</td>\n",
              "      <td>0.343750</td>\n",
              "    </tr>\n",
              "    <tr>\n",
              "      <th>29/06/1996</th>\n",
              "      <td>2.937500</td>\n",
              "      <td>0.125000</td>\n",
              "      <td>0.353553</td>\n",
              "      <td>2</td>\n",
              "      <td>0.250000</td>\n",
              "    </tr>\n",
              "    <tr>\n",
              "      <th>14/08/1996</th>\n",
              "      <td>3.462798</td>\n",
              "      <td>6.303363</td>\n",
              "      <td>2.510650</td>\n",
              "      <td>2</td>\n",
              "      <td>1.775298</td>\n",
              "    </tr>\n",
              "    <tr>\n",
              "      <th>30/08/1996</th>\n",
              "      <td>16.265625</td>\n",
              "      <td>377.266113</td>\n",
              "      <td>19.423339</td>\n",
              "      <td>2</td>\n",
              "      <td>13.734375</td>\n",
              "    </tr>\n",
              "  </tbody>\n",
              "</table>\n",
              "</div>"
            ],
            "text/plain": [
              "                 Prom    Varianza    Desvest  N        ETM\n",
              "Fecha                                                     \n",
              "20/04/1996   3.142210    0.535013   0.731446  2   0.517210\n",
              "30/05/1996   2.781250    0.236328   0.486136  2   0.343750\n",
              "29/06/1996   2.937500    0.125000   0.353553  2   0.250000\n",
              "14/08/1996   3.462798    6.303363   2.510650  2   1.775298\n",
              "30/08/1996  16.265625  377.266113  19.423339  2  13.734375"
            ]
          },
          "metadata": {
            "tags": []
          },
          "execution_count": 24
        }
      ]
    },
    {
      "cell_type": "markdown",
      "metadata": {
        "id": "6UuWy0wbcqNI",
        "colab_type": "text"
      },
      "source": [
        "Convertirlo a una serie de tiempo"
      ]
    },
    {
      "cell_type": "code",
      "metadata": {
        "id": "OOIjhlEoct5R",
        "colab_type": "code",
        "colab": {}
      },
      "source": [
        "df_comp=df_comp.asfreq('m')"
      ],
      "execution_count": 25,
      "outputs": []
    },
    {
      "cell_type": "code",
      "metadata": {
        "id": "r6oSYcV6c18n",
        "colab_type": "code",
        "colab": {
          "base_uri": "https://localhost:8080/",
          "height": 235
        },
        "outputId": "54bca910-074d-4fca-b2d8-4d8c4886416b"
      },
      "source": [
        "df_comp.head()"
      ],
      "execution_count": 26,
      "outputs": [
        {
          "output_type": "execute_result",
          "data": {
            "text/html": [
              "<div>\n",
              "<style scoped>\n",
              "    .dataframe tbody tr th:only-of-type {\n",
              "        vertical-align: middle;\n",
              "    }\n",
              "\n",
              "    .dataframe tbody tr th {\n",
              "        vertical-align: top;\n",
              "    }\n",
              "\n",
              "    .dataframe thead th {\n",
              "        text-align: right;\n",
              "    }\n",
              "</style>\n",
              "<table border=\"1\" class=\"dataframe\">\n",
              "  <thead>\n",
              "    <tr style=\"text-align: right;\">\n",
              "      <th></th>\n",
              "      <th>Prom</th>\n",
              "      <th>Varianza</th>\n",
              "      <th>Desvest</th>\n",
              "      <th>N</th>\n",
              "      <th>ETM</th>\n",
              "    </tr>\n",
              "    <tr>\n",
              "      <th>Fecha</th>\n",
              "      <th></th>\n",
              "      <th></th>\n",
              "      <th></th>\n",
              "      <th></th>\n",
              "      <th></th>\n",
              "    </tr>\n",
              "  </thead>\n",
              "  <tbody>\n",
              "    <tr>\n",
              "      <th>1996-04-30</th>\n",
              "      <td>NaN</td>\n",
              "      <td>NaN</td>\n",
              "      <td>NaN</td>\n",
              "      <td>NaN</td>\n",
              "      <td>NaN</td>\n",
              "    </tr>\n",
              "    <tr>\n",
              "      <th>1996-05-31</th>\n",
              "      <td>NaN</td>\n",
              "      <td>NaN</td>\n",
              "      <td>NaN</td>\n",
              "      <td>NaN</td>\n",
              "      <td>NaN</td>\n",
              "    </tr>\n",
              "    <tr>\n",
              "      <th>1996-06-30</th>\n",
              "      <td>NaN</td>\n",
              "      <td>NaN</td>\n",
              "      <td>NaN</td>\n",
              "      <td>NaN</td>\n",
              "      <td>NaN</td>\n",
              "    </tr>\n",
              "    <tr>\n",
              "      <th>1996-07-31</th>\n",
              "      <td>NaN</td>\n",
              "      <td>NaN</td>\n",
              "      <td>NaN</td>\n",
              "      <td>NaN</td>\n",
              "      <td>NaN</td>\n",
              "    </tr>\n",
              "    <tr>\n",
              "      <th>1996-08-31</th>\n",
              "      <td>NaN</td>\n",
              "      <td>NaN</td>\n",
              "      <td>NaN</td>\n",
              "      <td>NaN</td>\n",
              "      <td>NaN</td>\n",
              "    </tr>\n",
              "  </tbody>\n",
              "</table>\n",
              "</div>"
            ],
            "text/plain": [
              "            Prom  Varianza  Desvest   N  ETM\n",
              "Fecha                                       \n",
              "1996-04-30   NaN       NaN      NaN NaN  NaN\n",
              "1996-05-31   NaN       NaN      NaN NaN  NaN\n",
              "1996-06-30   NaN       NaN      NaN NaN  NaN\n",
              "1996-07-31   NaN       NaN      NaN NaN  NaN\n",
              "1996-08-31   NaN       NaN      NaN NaN  NaN"
            ]
          },
          "metadata": {
            "tags": []
          },
          "execution_count": 26
        }
      ]
    },
    {
      "cell_type": "code",
      "metadata": {
        "id": "FdCiHL9PdZ5o",
        "colab_type": "code",
        "colab": {
          "base_uri": "https://localhost:8080/",
          "height": 450
        },
        "outputId": "39b89806-8f70-40c3-afc5-380d6aa7db28"
      },
      "source": [
        "df_comp"
      ],
      "execution_count": 27,
      "outputs": [
        {
          "output_type": "execute_result",
          "data": {
            "text/html": [
              "<div>\n",
              "<style scoped>\n",
              "    .dataframe tbody tr th:only-of-type {\n",
              "        vertical-align: middle;\n",
              "    }\n",
              "\n",
              "    .dataframe tbody tr th {\n",
              "        vertical-align: top;\n",
              "    }\n",
              "\n",
              "    .dataframe thead th {\n",
              "        text-align: right;\n",
              "    }\n",
              "</style>\n",
              "<table border=\"1\" class=\"dataframe\">\n",
              "  <thead>\n",
              "    <tr style=\"text-align: right;\">\n",
              "      <th></th>\n",
              "      <th>Prom</th>\n",
              "      <th>Varianza</th>\n",
              "      <th>Desvest</th>\n",
              "      <th>N</th>\n",
              "      <th>ETM</th>\n",
              "    </tr>\n",
              "    <tr>\n",
              "      <th>Fecha</th>\n",
              "      <th></th>\n",
              "      <th></th>\n",
              "      <th></th>\n",
              "      <th></th>\n",
              "      <th></th>\n",
              "    </tr>\n",
              "  </thead>\n",
              "  <tbody>\n",
              "    <tr>\n",
              "      <th>1996-04-30</th>\n",
              "      <td>NaN</td>\n",
              "      <td>NaN</td>\n",
              "      <td>NaN</td>\n",
              "      <td>NaN</td>\n",
              "      <td>NaN</td>\n",
              "    </tr>\n",
              "    <tr>\n",
              "      <th>1996-05-31</th>\n",
              "      <td>NaN</td>\n",
              "      <td>NaN</td>\n",
              "      <td>NaN</td>\n",
              "      <td>NaN</td>\n",
              "      <td>NaN</td>\n",
              "    </tr>\n",
              "    <tr>\n",
              "      <th>1996-06-30</th>\n",
              "      <td>NaN</td>\n",
              "      <td>NaN</td>\n",
              "      <td>NaN</td>\n",
              "      <td>NaN</td>\n",
              "      <td>NaN</td>\n",
              "    </tr>\n",
              "    <tr>\n",
              "      <th>1996-07-31</th>\n",
              "      <td>NaN</td>\n",
              "      <td>NaN</td>\n",
              "      <td>NaN</td>\n",
              "      <td>NaN</td>\n",
              "      <td>NaN</td>\n",
              "    </tr>\n",
              "    <tr>\n",
              "      <th>1996-08-31</th>\n",
              "      <td>NaN</td>\n",
              "      <td>NaN</td>\n",
              "      <td>NaN</td>\n",
              "      <td>NaN</td>\n",
              "      <td>NaN</td>\n",
              "    </tr>\n",
              "    <tr>\n",
              "      <th>...</th>\n",
              "      <td>...</td>\n",
              "      <td>...</td>\n",
              "      <td>...</td>\n",
              "      <td>...</td>\n",
              "      <td>...</td>\n",
              "    </tr>\n",
              "    <tr>\n",
              "      <th>2007-01-31</th>\n",
              "      <td>NaN</td>\n",
              "      <td>NaN</td>\n",
              "      <td>NaN</td>\n",
              "      <td>NaN</td>\n",
              "      <td>NaN</td>\n",
              "    </tr>\n",
              "    <tr>\n",
              "      <th>2007-02-28</th>\n",
              "      <td>NaN</td>\n",
              "      <td>NaN</td>\n",
              "      <td>NaN</td>\n",
              "      <td>NaN</td>\n",
              "      <td>NaN</td>\n",
              "    </tr>\n",
              "    <tr>\n",
              "      <th>2007-03-31</th>\n",
              "      <td>NaN</td>\n",
              "      <td>NaN</td>\n",
              "      <td>NaN</td>\n",
              "      <td>NaN</td>\n",
              "      <td>NaN</td>\n",
              "    </tr>\n",
              "    <tr>\n",
              "      <th>2007-04-30</th>\n",
              "      <td>NaN</td>\n",
              "      <td>NaN</td>\n",
              "      <td>NaN</td>\n",
              "      <td>NaN</td>\n",
              "      <td>NaN</td>\n",
              "    </tr>\n",
              "    <tr>\n",
              "      <th>2007-05-31</th>\n",
              "      <td>NaN</td>\n",
              "      <td>NaN</td>\n",
              "      <td>NaN</td>\n",
              "      <td>NaN</td>\n",
              "      <td>NaN</td>\n",
              "    </tr>\n",
              "  </tbody>\n",
              "</table>\n",
              "<p>134 rows × 5 columns</p>\n",
              "</div>"
            ],
            "text/plain": [
              "            Prom  Varianza  Desvest   N  ETM\n",
              "Fecha                                       \n",
              "1996-04-30   NaN       NaN      NaN NaN  NaN\n",
              "1996-05-31   NaN       NaN      NaN NaN  NaN\n",
              "1996-06-30   NaN       NaN      NaN NaN  NaN\n",
              "1996-07-31   NaN       NaN      NaN NaN  NaN\n",
              "1996-08-31   NaN       NaN      NaN NaN  NaN\n",
              "...          ...       ...      ...  ..  ...\n",
              "2007-01-31   NaN       NaN      NaN NaN  NaN\n",
              "2007-02-28   NaN       NaN      NaN NaN  NaN\n",
              "2007-03-31   NaN       NaN      NaN NaN  NaN\n",
              "2007-04-30   NaN       NaN      NaN NaN  NaN\n",
              "2007-05-31   NaN       NaN      NaN NaN  NaN\n",
              "\n",
              "[134 rows x 5 columns]"
            ]
          },
          "metadata": {
            "tags": []
          },
          "execution_count": 27
        }
      ]
    },
    {
      "cell_type": "code",
      "metadata": {
        "id": "yW5utKyxkIlE",
        "colab_type": "code",
        "colab": {
          "base_uri": "https://localhost:8080/",
          "height": 450
        },
        "outputId": "7380a338-96e0-479f-8f35-24f95e4f1ab9"
      },
      "source": [
        "df_comp\n"
      ],
      "execution_count": 48,
      "outputs": [
        {
          "output_type": "execute_result",
          "data": {
            "text/html": [
              "<div>\n",
              "<style scoped>\n",
              "    .dataframe tbody tr th:only-of-type {\n",
              "        vertical-align: middle;\n",
              "    }\n",
              "\n",
              "    .dataframe tbody tr th {\n",
              "        vertical-align: top;\n",
              "    }\n",
              "\n",
              "    .dataframe thead th {\n",
              "        text-align: right;\n",
              "    }\n",
              "</style>\n",
              "<table border=\"1\" class=\"dataframe\">\n",
              "  <thead>\n",
              "    <tr style=\"text-align: right;\">\n",
              "      <th></th>\n",
              "      <th>Prom</th>\n",
              "      <th>Varianza</th>\n",
              "      <th>Desvest</th>\n",
              "      <th>N</th>\n",
              "      <th>ETM</th>\n",
              "    </tr>\n",
              "    <tr>\n",
              "      <th>Fecha</th>\n",
              "      <th></th>\n",
              "      <th></th>\n",
              "      <th></th>\n",
              "      <th></th>\n",
              "      <th></th>\n",
              "    </tr>\n",
              "  </thead>\n",
              "  <tbody>\n",
              "    <tr>\n",
              "      <th>1996-04-20</th>\n",
              "      <td>3.142210</td>\n",
              "      <td>0.535013</td>\n",
              "      <td>0.731446</td>\n",
              "      <td>2</td>\n",
              "      <td>0.517210</td>\n",
              "    </tr>\n",
              "    <tr>\n",
              "      <th>1996-05-30</th>\n",
              "      <td>2.781250</td>\n",
              "      <td>0.236328</td>\n",
              "      <td>0.486136</td>\n",
              "      <td>2</td>\n",
              "      <td>0.343750</td>\n",
              "    </tr>\n",
              "    <tr>\n",
              "      <th>1996-06-29</th>\n",
              "      <td>2.937500</td>\n",
              "      <td>0.125000</td>\n",
              "      <td>0.353553</td>\n",
              "      <td>2</td>\n",
              "      <td>0.250000</td>\n",
              "    </tr>\n",
              "    <tr>\n",
              "      <th>1996-08-14</th>\n",
              "      <td>3.462798</td>\n",
              "      <td>6.303363</td>\n",
              "      <td>2.510650</td>\n",
              "      <td>2</td>\n",
              "      <td>1.775298</td>\n",
              "    </tr>\n",
              "    <tr>\n",
              "      <th>1996-08-30</th>\n",
              "      <td>16.265625</td>\n",
              "      <td>377.266113</td>\n",
              "      <td>19.423339</td>\n",
              "      <td>2</td>\n",
              "      <td>13.734375</td>\n",
              "    </tr>\n",
              "    <tr>\n",
              "      <th>...</th>\n",
              "      <td>...</td>\n",
              "      <td>...</td>\n",
              "      <td>...</td>\n",
              "      <td>...</td>\n",
              "      <td>...</td>\n",
              "    </tr>\n",
              "    <tr>\n",
              "      <th>2007-01-19</th>\n",
              "      <td>61.833333</td>\n",
              "      <td>311.766667</td>\n",
              "      <td>17.656916</td>\n",
              "      <td>6</td>\n",
              "      <td>7.208406</td>\n",
              "    </tr>\n",
              "    <tr>\n",
              "      <th>2007-02-16</th>\n",
              "      <td>46.666667</td>\n",
              "      <td>395.866667</td>\n",
              "      <td>19.896398</td>\n",
              "      <td>6</td>\n",
              "      <td>8.122671</td>\n",
              "    </tr>\n",
              "    <tr>\n",
              "      <th>2007-03-19</th>\n",
              "      <td>59.666667</td>\n",
              "      <td>1017.866667</td>\n",
              "      <td>31.904023</td>\n",
              "      <td>6</td>\n",
              "      <td>13.024763</td>\n",
              "    </tr>\n",
              "    <tr>\n",
              "      <th>2007-04-14</th>\n",
              "      <td>60.833333</td>\n",
              "      <td>184.166667</td>\n",
              "      <td>13.570802</td>\n",
              "      <td>6</td>\n",
              "      <td>5.540257</td>\n",
              "    </tr>\n",
              "    <tr>\n",
              "      <th>2007-06-14</th>\n",
              "      <td>39.833333</td>\n",
              "      <td>210.966667</td>\n",
              "      <td>14.524692</td>\n",
              "      <td>6</td>\n",
              "      <td>5.929681</td>\n",
              "    </tr>\n",
              "  </tbody>\n",
              "</table>\n",
              "<p>110 rows × 5 columns</p>\n",
              "</div>"
            ],
            "text/plain": [
              "                 Prom     Varianza    Desvest  N        ETM\n",
              "Fecha                                                      \n",
              "1996-04-20   3.142210     0.535013   0.731446  2   0.517210\n",
              "1996-05-30   2.781250     0.236328   0.486136  2   0.343750\n",
              "1996-06-29   2.937500     0.125000   0.353553  2   0.250000\n",
              "1996-08-14   3.462798     6.303363   2.510650  2   1.775298\n",
              "1996-08-30  16.265625   377.266113  19.423339  2  13.734375\n",
              "...               ...          ...        ... ..        ...\n",
              "2007-01-19  61.833333   311.766667  17.656916  6   7.208406\n",
              "2007-02-16  46.666667   395.866667  19.896398  6   8.122671\n",
              "2007-03-19  59.666667  1017.866667  31.904023  6  13.024763\n",
              "2007-04-14  60.833333   184.166667  13.570802  6   5.540257\n",
              "2007-06-14  39.833333   210.966667  14.524692  6   5.929681\n",
              "\n",
              "[110 rows x 5 columns]"
            ]
          },
          "metadata": {
            "tags": []
          },
          "execution_count": 48
        }
      ]
    }
  ]
}