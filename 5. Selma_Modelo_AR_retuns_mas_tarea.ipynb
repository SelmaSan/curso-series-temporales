{
  "nbformat": 4,
  "nbformat_minor": 0,
  "metadata": {
    "kernelspec": {
      "display_name": "Python 3",
      "language": "python",
      "name": "python3"
    },
    "language_info": {
      "codemirror_mode": {
        "name": "ipython",
        "version": 3
      },
      "file_extension": ".py",
      "mimetype": "text/x-python",
      "name": "python",
      "nbconvert_exporter": "python",
      "pygments_lexer": "ipython3",
      "version": "3.6.7"
    },
    "colab": {
      "name": "8_Modelo_MA_Returns.ipynb",
      "provenance": [],
      "collapsed_sections": []
    }
  },
  "cells": [
    {
      "cell_type": "markdown",
      "metadata": {
        "id": "iEHCeHHTSt7R",
        "colab_type": "text"
      },
      "source": [
        "## Importing the relevant packages"
      ]
    },
    {
      "cell_type": "code",
      "metadata": {
        "id": "eo6zUSLLSt7S",
        "colab_type": "code",
        "colab": {}
      },
      "source": [
        "import pandas as pd\n",
        "import numpy as np\n",
        "import matplotlib.pyplot as plt\n",
        "import statsmodels.graphics.tsaplots as sgt\n",
        "import statsmodels.tsa.stattools as sts\n",
        "from statsmodels.tsa.arima_model import ARMA\n",
        "from scipy.stats.distributions import chi2 \n",
        "from math import sqrt\n",
        "import seaborn as sns\n",
        "sns.set()"
      ],
      "execution_count": null,
      "outputs": []
    },
    {
      "cell_type": "markdown",
      "metadata": {
        "id": "qZ7N5lciSt7W",
        "colab_type": "text"
      },
      "source": [
        "## Importing the Data and Pre-processing "
      ]
    },
    {
      "cell_type": "code",
      "metadata": {
        "id": "AzOIIriaSt7W",
        "colab_type": "code",
        "colab": {}
      },
      "source": [
        "raw_csv_data = pd.read_csv(\"https://raw.githubusercontent.com/ecabestadistica/curso-series-temporales/master/6.%20Modelos%20MA%20medias%20m%C3%B3viles/Python/Index2018.csv\") \n",
        "df_comp=raw_csv_data.copy()\n",
        "df_comp.date = pd.to_datetime(df_comp.date, dayfirst = True)\n",
        "df_comp.set_index(\"date\", inplace=True)\n",
        "df_comp=df_comp.asfreq('b')\n",
        "df_comp=df_comp.fillna(method='ffill')"
      ],
      "execution_count": null,
      "outputs": []
    },
    {
      "cell_type": "code",
      "metadata": {
        "id": "W2apOQcuSt7Z",
        "colab_type": "code",
        "colab": {}
      },
      "source": [
        "df_comp['market_value']=df_comp.ftse"
      ],
      "execution_count": null,
      "outputs": []
    },
    {
      "cell_type": "code",
      "metadata": {
        "id": "UyFcYXJQSt7b",
        "colab_type": "code",
        "colab": {}
      },
      "source": [
        "del df_comp['spx']\n",
        "del df_comp['dax']\n",
        "del df_comp['ftse']\n",
        "del df_comp['nikkei']\n",
        "size = int(len(df_comp)*0.8)\n",
        "df, df_test = df_comp.iloc[:size], df_comp.iloc[size:]"
      ],
      "execution_count": null,
      "outputs": []
    },
    {
      "cell_type": "markdown",
      "metadata": {
        "id": "eWu-ZNThlvm7",
        "colab_type": "text"
      },
      "source": [
        "DF TEST"
      ]
    },
    {
      "cell_type": "code",
      "metadata": {
        "id": "f1OHhljeJ0_k",
        "colab_type": "code",
        "colab": {
          "base_uri": "https://localhost:8080/",
          "height": 153
        },
        "outputId": "69f0969a-435a-4257-91a1-3314ae88f04d"
      },
      "source": [
        "sts.adfuller(df.market_value)"
      ],
      "execution_count": null,
      "outputs": [
        {
          "output_type": "execute_result",
          "data": {
            "text/plain": [
              "(-1.9041551418836864,\n",
              " 0.33010893277028336,\n",
              " 6,\n",
              " 5014,\n",
              " {'1%': -3.4316548765428174,\n",
              "  '10%': -2.5670769326348926,\n",
              "  '5%': -2.8621166146845334},\n",
              " 54854.15304507557)"
            ]
          },
          "metadata": {
            "tags": []
          },
          "execution_count": 22
        }
      ]
    },
    {
      "cell_type": "markdown",
      "metadata": {
        "id": "TSawHVRNKcvh",
        "colab_type": "text"
      },
      "source": [
        "-1.9 esta por encima de los otros valores críticos, no rechamos ho.\n",
        "\n",
        "Entonces No podemos decir que vengan de un proceso estacionario.\n",
        "Entonces puede haber problema al usar este modelo aautorregresivo, ya que estos no son buenos con datos que no son estacionarios.\n",
        "\n",
        "p valor es 0.33 es mayor 0.05"
      ]
    },
    {
      "cell_type": "markdown",
      "metadata": {
        "id": "cyuKKVr2St7k",
        "colab_type": "text"
      },
      "source": [
        "## Creating Returns"
      ]
    },
    {
      "cell_type": "markdown",
      "metadata": {
        "id": "EKFMhx77K5gM",
        "colab_type": "text"
      },
      "source": [
        "En estos casos que los datos no son estacionarios, en finanzas se hace una conversion a retorno.\n",
        "Porcentaje de cambio entre valores consecutivos."
      ]
    },
    {
      "cell_type": "markdown",
      "metadata": {
        "id": "mVOA0nIyAUvo",
        "colab_type": "text"
      },
      "source": [
        "pct.change porcentaje de cambio, 1 significa 1 retorno, pero esto viene por defecto.Esto arrojaa una taasa 0 a 1 , 0,5, 0.6 etc. Si queremos verlo en porcentaje lo multiplicamos por 100 (mul(100).\n",
        "\n",
        "Esto se  calcula asi cada fila (X(t)-X(t-1))*100/X(t)"
      ]
    },
    {
      "cell_type": "code",
      "metadata": {
        "scrolled": true,
        "id": "AWgKW0RYSt7l",
        "colab_type": "code",
        "colab": {
          "base_uri": "https://localhost:8080/",
          "height": 139
        },
        "outputId": "8ae21330-fb5a-429e-a120-3be1b2ca8c82"
      },
      "source": [
        "df['returns'] = df.market_value.pct_change(1).mul(100)"
      ],
      "execution_count": null,
      "outputs": [
        {
          "output_type": "stream",
          "text": [
            "/usr/local/lib/python3.6/dist-packages/ipykernel_launcher.py:1: SettingWithCopyWarning: \n",
            "A value is trying to be set on a copy of a slice from a DataFrame.\n",
            "Try using .loc[row_indexer,col_indexer] = value instead\n",
            "\n",
            "See the caveats in the documentation: https://pandas.pydata.org/pandas-docs/stable/user_guide/indexing.html#returning-a-view-versus-a-copy\n",
            "  \"\"\"Entry point for launching an IPython kernel.\n"
          ],
          "name": "stderr"
        }
      ]
    },
    {
      "cell_type": "code",
      "metadata": {
        "id": "KLoGu2Jq8w3I",
        "colab_type": "code",
        "colab": {
          "base_uri": "https://localhost:8080/",
          "height": 235
        },
        "outputId": "25d2baf6-6933-4f01-d6ec-375f13ec6ea0"
      },
      "source": [
        "df.head()"
      ],
      "execution_count": null,
      "outputs": [
        {
          "output_type": "execute_result",
          "data": {
            "text/html": [
              "<div>\n",
              "<style scoped>\n",
              "    .dataframe tbody tr th:only-of-type {\n",
              "        vertical-align: middle;\n",
              "    }\n",
              "\n",
              "    .dataframe tbody tr th {\n",
              "        vertical-align: top;\n",
              "    }\n",
              "\n",
              "    .dataframe thead th {\n",
              "        text-align: right;\n",
              "    }\n",
              "</style>\n",
              "<table border=\"1\" class=\"dataframe\">\n",
              "  <thead>\n",
              "    <tr style=\"text-align: right;\">\n",
              "      <th></th>\n",
              "      <th>market_value</th>\n",
              "      <th>returns</th>\n",
              "    </tr>\n",
              "    <tr>\n",
              "      <th>date</th>\n",
              "      <th></th>\n",
              "      <th></th>\n",
              "    </tr>\n",
              "  </thead>\n",
              "  <tbody>\n",
              "    <tr>\n",
              "      <th>1994-01-07</th>\n",
              "      <td>3445.98</td>\n",
              "      <td>NaN</td>\n",
              "    </tr>\n",
              "    <tr>\n",
              "      <th>1994-01-10</th>\n",
              "      <td>3440.58</td>\n",
              "      <td>-0.156704</td>\n",
              "    </tr>\n",
              "    <tr>\n",
              "      <th>1994-01-11</th>\n",
              "      <td>3413.77</td>\n",
              "      <td>-0.779229</td>\n",
              "    </tr>\n",
              "    <tr>\n",
              "      <th>1994-01-12</th>\n",
              "      <td>3372.02</td>\n",
              "      <td>-1.222988</td>\n",
              "    </tr>\n",
              "    <tr>\n",
              "      <th>1994-01-13</th>\n",
              "      <td>3360.01</td>\n",
              "      <td>-0.356166</td>\n",
              "    </tr>\n",
              "  </tbody>\n",
              "</table>\n",
              "</div>"
            ],
            "text/plain": [
              "            market_value   returns\n",
              "date                              \n",
              "1994-01-07       3445.98       NaN\n",
              "1994-01-10       3440.58 -0.156704\n",
              "1994-01-11       3413.77 -0.779229\n",
              "1994-01-12       3372.02 -1.222988\n",
              "1994-01-13       3360.01 -0.356166"
            ]
          },
          "metadata": {
            "tags": []
          },
          "execution_count": 24
        }
      ]
    },
    {
      "cell_type": "markdown",
      "metadata": {
        "id": "nAWree3zA5BY",
        "colab_type": "text"
      },
      "source": [
        "faalta un valor porque como es un retorno de un díaa anterior, por eso para la primera fecha no hay vaalor"
      ]
    },
    {
      "cell_type": "markdown",
      "metadata": {
        "id": "7dnmbgAO0cpW",
        "colab_type": "text"
      },
      "source": [
        "OJO: No ejecutar lo que sigue solo para observar como se quita la Primera filaa"
      ]
    },
    {
      "cell_type": "markdown",
      "metadata": {
        "id": "fZwHOi3-BCBI",
        "colab_type": "text"
      },
      "source": [
        "Entonces como tenemos muchos datos, optaamos a eliminar la  primera fila (iloc(1:)"
      ]
    },
    {
      "cell_type": "code",
      "metadata": {
        "id": "nm-PM_1j8mPX",
        "colab_type": "code",
        "colab": {
          "base_uri": "https://localhost:8080/",
          "height": 139
        },
        "outputId": "f9597b58-a970-498e-83a0-3f883bbce556"
      },
      "source": [
        "df['returns'] = df.market_value.pct_change(1).mul(100)\n",
        "df = df.iloc[1:]\n"
      ],
      "execution_count": null,
      "outputs": [
        {
          "output_type": "stream",
          "text": [
            "/usr/local/lib/python3.6/dist-packages/ipykernel_launcher.py:1: SettingWithCopyWarning: \n",
            "A value is trying to be set on a copy of a slice from a DataFrame.\n",
            "Try using .loc[row_indexer,col_indexer] = value instead\n",
            "\n",
            "See the caveats in the documentation: https://pandas.pydata.org/pandas-docs/stable/user_guide/indexing.html#returning-a-view-versus-a-copy\n",
            "  \"\"\"Entry point for launching an IPython kernel.\n"
          ],
          "name": "stderr"
        }
      ]
    },
    {
      "cell_type": "code",
      "metadata": {
        "id": "TeoKnh0QMlX7",
        "colab_type": "code",
        "colab": {
          "base_uri": "https://localhost:8080/",
          "height": 235
        },
        "outputId": "bbb85a43-8d22-4f2c-db79-a9cd3a4befce"
      },
      "source": [
        "df.head()"
      ],
      "execution_count": null,
      "outputs": [
        {
          "output_type": "execute_result",
          "data": {
            "text/html": [
              "<div>\n",
              "<style scoped>\n",
              "    .dataframe tbody tr th:only-of-type {\n",
              "        vertical-align: middle;\n",
              "    }\n",
              "\n",
              "    .dataframe tbody tr th {\n",
              "        vertical-align: top;\n",
              "    }\n",
              "\n",
              "    .dataframe thead th {\n",
              "        text-align: right;\n",
              "    }\n",
              "</style>\n",
              "<table border=\"1\" class=\"dataframe\">\n",
              "  <thead>\n",
              "    <tr style=\"text-align: right;\">\n",
              "      <th></th>\n",
              "      <th>market_value</th>\n",
              "      <th>returns</th>\n",
              "    </tr>\n",
              "    <tr>\n",
              "      <th>date</th>\n",
              "      <th></th>\n",
              "      <th></th>\n",
              "    </tr>\n",
              "  </thead>\n",
              "  <tbody>\n",
              "    <tr>\n",
              "      <th>1994-01-10</th>\n",
              "      <td>3440.58</td>\n",
              "      <td>-0.156704</td>\n",
              "    </tr>\n",
              "    <tr>\n",
              "      <th>1994-01-11</th>\n",
              "      <td>3413.77</td>\n",
              "      <td>-0.779229</td>\n",
              "    </tr>\n",
              "    <tr>\n",
              "      <th>1994-01-12</th>\n",
              "      <td>3372.02</td>\n",
              "      <td>-1.222988</td>\n",
              "    </tr>\n",
              "    <tr>\n",
              "      <th>1994-01-13</th>\n",
              "      <td>3360.01</td>\n",
              "      <td>-0.356166</td>\n",
              "    </tr>\n",
              "    <tr>\n",
              "      <th>1994-01-14</th>\n",
              "      <td>3400.56</td>\n",
              "      <td>1.206842</td>\n",
              "    </tr>\n",
              "  </tbody>\n",
              "</table>\n",
              "</div>"
            ],
            "text/plain": [
              "            market_value   returns\n",
              "date                              \n",
              "1994-01-10       3440.58 -0.156704\n",
              "1994-01-11       3413.77 -0.779229\n",
              "1994-01-12       3372.02 -1.222988\n",
              "1994-01-13       3360.01 -0.356166\n",
              "1994-01-14       3400.56  1.206842"
            ]
          },
          "metadata": {
            "tags": []
          },
          "execution_count": 53
        }
      ]
    },
    {
      "cell_type": "markdown",
      "metadata": {
        "id": "-LSvx0A00mVq",
        "colab_type": "text"
      },
      "source": [
        "CONTINUAMOS CON LA EJECUCION"
      ]
    },
    {
      "cell_type": "code",
      "metadata": {
        "id": "kZn2zJxKL8yJ",
        "colab_type": "code",
        "colab": {
          "base_uri": "https://localhost:8080/",
          "height": 153
        },
        "outputId": "8cf33ce3-0fb0-4388-96fc-2e782d2cfe4f"
      },
      "source": [
        "sts.adfuller(df.returns[1:])"
      ],
      "execution_count": null,
      "outputs": [
        {
          "output_type": "execute_result",
          "data": {
            "text/plain": [
              "(-12.770265719497182,\n",
              " 7.798058336040345e-24,\n",
              " 32,\n",
              " 4987,\n",
              " {'1%': -3.431661944885779,\n",
              "  '10%': -2.5670785949998973,\n",
              "  '5%': -2.8621197374408225},\n",
              " 15696.7672456975)"
            ]
          },
          "metadata": {
            "tags": []
          },
          "execution_count": 26
        }
      ]
    },
    {
      "cell_type": "markdown",
      "metadata": {
        "id": "H8oBdRlhNeca",
        "colab_type": "text"
      },
      "source": [
        "El estadistio es menor a los valores críticos. se puede rechazar la ho.\n",
        "entonces es ahora estacionario"
      ]
    },
    {
      "cell_type": "markdown",
      "metadata": {
        "id": "6UkZI2RGHOl6",
        "colab_type": "text"
      },
      "source": [
        "TAREA"
      ]
    },
    {
      "cell_type": "markdown",
      "metadata": {
        "id": "-Pbne8uySt7n",
        "colab_type": "text"
      },
      "source": [
        "## ACF for Returns"
      ]
    },
    {
      "cell_type": "markdown",
      "metadata": {
        "id": "NPg9QR0ZI6fS",
        "colab_type": "text"
      },
      "source": [
        "PREGUNTA 1, 2 Y 3"
      ]
    },
    {
      "cell_type": "code",
      "metadata": {
        "id": "MkSpRTFoSt7o",
        "colab_type": "code",
        "colab": {
          "base_uri": "https://localhost:8080/",
          "height": 293
        },
        "outputId": "b42826d6-6efc-4903-efa0-8c3285e8d368"
      },
      "source": [
        "sgt.plot_acf(df.returns[1:], zero = False, lags = 40)\n",
        "plt.title(\"ACF for Returns\", size=24)\n",
        "plt.show()"
      ],
      "execution_count": null,
      "outputs": [
        {
          "output_type": "display_data",
          "data": {
            "image/png": "[encoded data removed]",
            "text/plain": [
              "<Figure size 432x288 with 1 Axes>"
            ]
          },
          "metadata": {
            "tags": []
          }
        }
      ]
    },
    {
      "cell_type": "code",
      "metadata": {
        "id": "1RwVODEM12zE",
        "colab_type": "code",
        "colab": {
          "base_uri": "https://localhost:8080/",
          "height": 293
        },
        "outputId": "8fa5082a-f0a8-4fcb-ec11-78d7b4609ed4"
      },
      "source": [
        "sgt.plot_pacf(df.returns[1:], lags = 40, zero = False, method = ('ols'))\n",
        "plt.title(\"PACF FTSE Returns\", size=24)\n",
        "plt.show()"
      ],
      "execution_count": null,
      "outputs": [
        {
          "output_type": "display_data",
          "data": {
            "image/png": "[encoded data removed]",
            "text/plain": [
              "<Figure size 432x288 with 1 Axes>"
            ]
          },
          "metadata": {
            "tags": []
          }
        }
      ]
    },
    {
      "cell_type": "markdown",
      "metadata": {
        "id": "dQbU0-NYHVmF",
        "colab_type": "text"
      },
      "source": [
        "Análisis del modelo AR(1) y de sus residuos."
      ]
    },
    {
      "cell_type": "code",
      "metadata": {
        "id": "3Ez__4tOHn1o",
        "colab_type": "code",
        "colab": {}
      },
      "source": [
        "model_ar_1 = ARMA(df.returns[1:], order=(1,0))"
      ],
      "execution_count": null,
      "outputs": []
    },
    {
      "cell_type": "code",
      "metadata": {
        "id": "FlPtDLFSH6jV",
        "colab_type": "code",
        "colab": {}
      },
      "source": [
        "results_ar_1 = model_ar_1.fit()"
      ],
      "execution_count": null,
      "outputs": []
    },
    {
      "cell_type": "code",
      "metadata": {
        "id": "wcCTU8mPH-bX",
        "colab_type": "code",
        "colab": {
          "base_uri": "https://localhost:8080/",
          "height": 309
        },
        "outputId": "fe50870f-545e-4731-8281-d94b8fafb7bd"
      },
      "source": [
        "results_ar_1.summary()"
      ],
      "execution_count": null,
      "outputs": [
        {
          "output_type": "execute_result",
          "data": {
            "text/html": [
              "<table class=\"simpletable\">\n",
              "<caption>ARMA Model Results</caption>\n",
              "<tr>\n",
              "  <th>Dep. Variable:</th>      <td>returns</td>     <th>  No. Observations:  </th>   <td>5020</td>   \n",
              "</tr>\n",
              "<tr>\n",
              "  <th>Model:</th>            <td>ARMA(1, 0)</td>    <th>  Log Likelihood     </th> <td>-7929.749</td>\n",
              "</tr>\n",
              "<tr>\n",
              "  <th>Method:</th>             <td>css-mle</td>     <th>  S.D. of innovations</th>   <td>1.174</td>  \n",
              "</tr>\n",
              "<tr>\n",
              "  <th>Date:</th>          <td>Fri, 24 Jul 2020</td> <th>  AIC                </th> <td>15865.497</td>\n",
              "</tr>\n",
              "<tr>\n",
              "  <th>Time:</th>              <td>03:17:33</td>     <th>  BIC                </th> <td>15885.061</td>\n",
              "</tr>\n",
              "<tr>\n",
              "  <th>Sample:</th>           <td>01-10-1994</td>    <th>  HQIC               </th> <td>15872.353</td>\n",
              "</tr>\n",
              "<tr>\n",
              "  <th></th>                 <td>- 04-05-2013</td>   <th>                     </th>     <td> </td>    \n",
              "</tr>\n",
              "</table>\n",
              "<table class=\"simpletable\">\n",
              "<tr>\n",
              "        <td></td>           <th>coef</th>     <th>std err</th>      <th>z</th>      <th>P>|z|</th>  <th>[0.025</th>    <th>0.975]</th>  \n",
              "</tr>\n",
              "<tr>\n",
              "  <th>const</th>         <td>    0.0188</td> <td>    0.016</td> <td>    1.159</td> <td> 0.247</td> <td>   -0.013</td> <td>    0.051</td>\n",
              "</tr>\n",
              "<tr>\n",
              "  <th>ar.L1.returns</th> <td>   -0.0230</td> <td>    0.014</td> <td>   -1.631</td> <td> 0.103</td> <td>   -0.051</td> <td>    0.005</td>\n",
              "</tr>\n",
              "</table>\n",
              "<table class=\"simpletable\">\n",
              "<caption>Roots</caption>\n",
              "<tr>\n",
              "    <td></td>   <th>            Real</th>  <th>         Imaginary</th> <th>         Modulus</th>  <th>        Frequency</th>\n",
              "</tr>\n",
              "<tr>\n",
              "  <th>AR.1</th> <td>         -43.4386</td> <td>          +0.0000j</td> <td>          43.4386</td> <td>           0.5000</td>\n",
              "</tr>\n",
              "</table>"
            ],
            "text/plain": [
              "<class 'statsmodels.iolib.summary.Summary'>\n",
              "\"\"\"\n",
              "                              ARMA Model Results                              \n",
              "==============================================================================\n",
              "Dep. Variable:                returns   No. Observations:                 5020\n",
              "Model:                     ARMA(1, 0)   Log Likelihood               -7929.749\n",
              "Method:                       css-mle   S.D. of innovations              1.174\n",
              "Date:                Fri, 24 Jul 2020   AIC                          15865.497\n",
              "Time:                        03:17:33   BIC                          15885.061\n",
              "Sample:                    01-10-1994   HQIC                         15872.353\n",
              "                         - 04-05-2013                                         \n",
              "=================================================================================\n",
              "                    coef    std err          z      P>|z|      [0.025      0.975]\n",
              "---------------------------------------------------------------------------------\n",
              "const             0.0188      0.016      1.159      0.247      -0.013       0.051\n",
              "ar.L1.returns    -0.0230      0.014     -1.631      0.103      -0.051       0.005\n",
              "                                    Roots                                    \n",
              "=============================================================================\n",
              "                  Real          Imaginary           Modulus         Frequency\n",
              "-----------------------------------------------------------------------------\n",
              "AR.1          -43.4386           +0.0000j           43.4386            0.5000\n",
              "-----------------------------------------------------------------------------\n",
              "\"\"\""
            ]
          },
          "metadata": {
            "tags": []
          },
          "execution_count": 31
        }
      ]
    },
    {
      "cell_type": "markdown",
      "metadata": {
        "id": "Ai74CFFVgylL",
        "colab_type": "text"
      },
      "source": [
        "p valor no significaativo, no se rechaza Ho, entonces el coeficiente es igual a 0"
      ]
    },
    {
      "cell_type": "markdown",
      "metadata": {
        "id": "kPlcnhWthUGf",
        "colab_type": "text"
      },
      "source": [
        "Analisis de residuos de modelo AR1"
      ]
    },
    {
      "cell_type": "code",
      "metadata": {
        "id": "3n_ACRc2jlx2",
        "colab_type": "code",
        "colab": {
          "base_uri": "https://localhost:8080/",
          "height": 139
        },
        "outputId": "0d320c80-bead-4547-dfcb-0cecd583d6e3"
      },
      "source": [
        "df['res_price'] = results_ar_1.resid[1:]"
      ],
      "execution_count": null,
      "outputs": [
        {
          "output_type": "stream",
          "text": [
            "/usr/local/lib/python3.6/dist-packages/ipykernel_launcher.py:1: SettingWithCopyWarning: \n",
            "A value is trying to be set on a copy of a slice from a DataFrame.\n",
            "Try using .loc[row_indexer,col_indexer] = value instead\n",
            "\n",
            "See the caveats in the documentation: https://pandas.pydata.org/pandas-docs/stable/user_guide/indexing.html#returning-a-view-versus-a-copy\n",
            "  \"\"\"Entry point for launching an IPython kernel.\n"
          ],
          "name": "stderr"
        }
      ]
    },
    {
      "cell_type": "code",
      "metadata": {
        "id": "GlxhD5alk0O4",
        "colab_type": "code",
        "colab": {
          "base_uri": "https://localhost:8080/",
          "height": 153
        },
        "outputId": "e616424b-9859-47ae-c9cc-63338c5d4984"
      },
      "source": [
        "sts.adfuller(df.res_price[2:])"
      ],
      "execution_count": null,
      "outputs": [
        {
          "output_type": "execute_result",
          "data": {
            "text/plain": [
              "(-12.802886436103307,\n",
              " 6.695475244541121e-24,\n",
              " 32,\n",
              " 4986,\n",
              " {'1%': -3.43166220814716,\n",
              "  '10%': -2.567078656914853,\n",
              "  '5%': -2.862119853748156},\n",
              " 15690.459504016972)"
            ]
          },
          "metadata": {
            "tags": []
          },
          "execution_count": 37
        }
      ]
    },
    {
      "cell_type": "code",
      "metadata": {
        "id": "NGp1aMU0lI08",
        "colab_type": "code",
        "colab": {
          "base_uri": "https://localhost:8080/",
          "height": 293
        },
        "outputId": "a70d1550-0555-4361-92cc-a464e617d807"
      },
      "source": [
        "sgt.plot_acf(df.res_price[2:], zero = False, lags = 40)\n",
        "plt.title(\"ACF Of Residuals for Prices\",size=24)\n",
        "plt.show()"
      ],
      "execution_count": null,
      "outputs": [
        {
          "output_type": "display_data",
          "data": {
            "image/png": "[encoded data removed]",
            "text/plain": [
              "<Figure size 432x288 with 1 Axes>"
            ]
          },
          "metadata": {
            "tags": []
          }
        }
      ]
    },
    {
      "cell_type": "markdown",
      "metadata": {
        "id": "ypUtUl6kFAYG",
        "colab_type": "text"
      },
      "source": [
        "En el ACF de los residuos vemos varios puntos en la zona de significancia por lo que habria autocorrelación"
      ]
    },
    {
      "cell_type": "code",
      "metadata": {
        "colab_type": "code",
        "id": "LRv4JfJhtk8W",
        "colab": {
          "base_uri": "https://localhost:8080/",
          "height": 298
        },
        "outputId": "18dcd920-3973-429d-f08e-4f2ffcc53f9d"
      },
      "source": [
        "df.res_price[2:].plot(figsize=(20,5))\n",
        "plt.title(\"Residuals of Prices\",size=24)\n",
        "plt.show()"
      ],
      "execution_count": null,
      "outputs": [
        {
          "output_type": "display_data",
          "data": {
            "image/png": "[encoded data removed]",
            "text/plain": [
              "<Figure size 1440x360 with 1 Axes>"
            ]
          },
          "metadata": {
            "tags": []
          }
        }
      ]
    },
    {
      "cell_type": "markdown",
      "metadata": {
        "id": "L0BceoIwFb-D",
        "colab_type": "text"
      },
      "source": [
        "Se asemeja al ruido blanco"
      ]
    },
    {
      "cell_type": "markdown",
      "metadata": {
        "id": "1UM8bARsGN8w",
        "colab_type": "text"
      },
      "source": [
        "AR(2)"
      ]
    },
    {
      "cell_type": "code",
      "metadata": {
        "id": "jxe11SXsGgL2",
        "colab_type": "code",
        "colab": {
          "base_uri": "https://localhost:8080/",
          "height": 351
        },
        "outputId": "df33d632-3763-41de-8edb-3128e57dc06f"
      },
      "source": [
        "model_ar_2 = ARMA(df.returns[1:], order=(2,0))\n",
        "results_ar_2 = model_ar_2.fit()\n",
        "results_ar_2.summary()"
      ],
      "execution_count": null,
      "outputs": [
        {
          "output_type": "execute_result",
          "data": {
            "text/html": [
              "<table class=\"simpletable\">\n",
              "<caption>ARMA Model Results</caption>\n",
              "<tr>\n",
              "  <th>Dep. Variable:</th>      <td>returns</td>     <th>  No. Observations:  </th>   <td>5020</td>   \n",
              "</tr>\n",
              "<tr>\n",
              "  <th>Model:</th>            <td>ARMA(2, 0)</td>    <th>  Log Likelihood     </th> <td>-7923.456</td>\n",
              "</tr>\n",
              "<tr>\n",
              "  <th>Method:</th>             <td>css-mle</td>     <th>  S.D. of innovations</th>   <td>1.173</td>  \n",
              "</tr>\n",
              "<tr>\n",
              "  <th>Date:</th>          <td>Fri, 24 Jul 2020</td> <th>  AIC                </th> <td>15854.911</td>\n",
              "</tr>\n",
              "<tr>\n",
              "  <th>Time:</th>              <td>04:36:11</td>     <th>  BIC                </th> <td>15880.996</td>\n",
              "</tr>\n",
              "<tr>\n",
              "  <th>Sample:</th>           <td>01-10-1994</td>    <th>  HQIC               </th> <td>15864.052</td>\n",
              "</tr>\n",
              "<tr>\n",
              "  <th></th>                 <td>- 04-05-2013</td>   <th>                     </th>     <td> </td>    \n",
              "</tr>\n",
              "</table>\n",
              "<table class=\"simpletable\">\n",
              "<tr>\n",
              "        <td></td>           <th>coef</th>     <th>std err</th>      <th>z</th>      <th>P>|z|</th>  <th>[0.025</th>    <th>0.975]</th>  \n",
              "</tr>\n",
              "<tr>\n",
              "  <th>const</th>         <td>    0.0188</td> <td>    0.015</td> <td>    1.220</td> <td> 0.222</td> <td>   -0.011</td> <td>    0.049</td>\n",
              "</tr>\n",
              "<tr>\n",
              "  <th>ar.L1.returns</th> <td>   -0.0242</td> <td>    0.014</td> <td>   -1.716</td> <td> 0.086</td> <td>   -0.052</td> <td>    0.003</td>\n",
              "</tr>\n",
              "<tr>\n",
              "  <th>ar.L2.returns</th> <td>   -0.0500</td> <td>    0.014</td> <td>   -3.550</td> <td> 0.000</td> <td>   -0.078</td> <td>   -0.022</td>\n",
              "</tr>\n",
              "</table>\n",
              "<table class=\"simpletable\">\n",
              "<caption>Roots</caption>\n",
              "<tr>\n",
              "    <td></td>   <th>            Real</th>  <th>         Imaginary</th> <th>         Modulus</th>  <th>        Frequency</th>\n",
              "</tr>\n",
              "<tr>\n",
              "  <th>AR.1</th> <td>          -0.2417</td> <td>          -4.4635j</td> <td>           4.4701</td> <td>          -0.2586</td>\n",
              "</tr>\n",
              "<tr>\n",
              "  <th>AR.2</th> <td>          -0.2417</td> <td>          +4.4635j</td> <td>           4.4701</td> <td>           0.2586</td>\n",
              "</tr>\n",
              "</table>"
            ],
            "text/plain": [
              "<class 'statsmodels.iolib.summary.Summary'>\n",
              "\"\"\"\n",
              "                              ARMA Model Results                              \n",
              "==============================================================================\n",
              "Dep. Variable:                returns   No. Observations:                 5020\n",
              "Model:                     ARMA(2, 0)   Log Likelihood               -7923.456\n",
              "Method:                       css-mle   S.D. of innovations              1.173\n",
              "Date:                Fri, 24 Jul 2020   AIC                          15854.911\n",
              "Time:                        04:36:11   BIC                          15880.996\n",
              "Sample:                    01-10-1994   HQIC                         15864.052\n",
              "                         - 04-05-2013                                         \n",
              "=================================================================================\n",
              "                    coef    std err          z      P>|z|      [0.025      0.975]\n",
              "---------------------------------------------------------------------------------\n",
              "const             0.0188      0.015      1.220      0.222      -0.011       0.049\n",
              "ar.L1.returns    -0.0242      0.014     -1.716      0.086      -0.052       0.003\n",
              "ar.L2.returns    -0.0500      0.014     -3.550      0.000      -0.078      -0.022\n",
              "                                    Roots                                    \n",
              "=============================================================================\n",
              "                  Real          Imaginary           Modulus         Frequency\n",
              "-----------------------------------------------------------------------------\n",
              "AR.1           -0.2417           -4.4635j            4.4701           -0.2586\n",
              "AR.2           -0.2417           +4.4635j            4.4701            0.2586\n",
              "-----------------------------------------------------------------------------\n",
              "\"\"\""
            ]
          },
          "metadata": {
            "tags": []
          },
          "execution_count": 41
        }
      ]
    },
    {
      "cell_type": "markdown",
      "metadata": {
        "id": "W90erI97LpYB",
        "colab_type": "text"
      },
      "source": [
        "Comparando modelo ar1 y ar2"
      ]
    },
    {
      "cell_type": "code",
      "metadata": {
        "id": "W6brC5LmKrYF",
        "colab_type": "code",
        "colab": {}
      },
      "source": [
        "def LLR_test(mod_1, mod_2, DF=1):\n",
        "    L1 = mod_1.llf\n",
        "    L2 = mod_2.llf\n",
        "    LR = (2*(L2-L1))\n",
        "    p = chi2.sf(LR, DF).round(3)\n",
        "    return p"
      ],
      "execution_count": null,
      "outputs": []
    },
    {
      "cell_type": "code",
      "metadata": {
        "id": "D2yHaOc8LXru",
        "colab_type": "code",
        "colab": {
          "base_uri": "https://localhost:8080/",
          "height": 34
        },
        "outputId": "d105f052-6e16-4c65-d248-2cb41a60622c"
      },
      "source": [
        "LLR_test(results_ar_1, results_ar_2)"
      ],
      "execution_count": null,
      "outputs": [
        {
          "output_type": "execute_result",
          "data": {
            "text/plain": [
              "0.0"
            ]
          },
          "metadata": {
            "tags": []
          },
          "execution_count": 69
        }
      ]
    },
    {
      "cell_type": "markdown",
      "metadata": {
        "id": "Jsfn8ZW5G9IM",
        "colab_type": "text"
      },
      "source": [
        "AR(3)"
      ]
    },
    {
      "cell_type": "code",
      "metadata": {
        "id": "OlqKwIizHQkK",
        "colab_type": "code",
        "colab": {
          "base_uri": "https://localhost:8080/",
          "height": 442
        },
        "outputId": "08d0b71f-4941-49de-8d09-a3c9f5cc7b19"
      },
      "source": [
        "model_ar_3 = ARMA(df.returns[1:], order=(3,0))\n",
        "results_ar_3 = model_ar_3.fit()\n",
        "print (results_ar_3.summary())\n",
        "print (\"LLR test: \" + str(LLR_test(results_ar_2, results_ar_3)))"
      ],
      "execution_count": null,
      "outputs": [
        {
          "output_type": "stream",
          "text": [
            "                              ARMA Model Results                              \n",
            "==============================================================================\n",
            "Dep. Variable:                returns   No. Observations:                 5020\n",
            "Model:                     ARMA(3, 0)   Log Likelihood               -7906.738\n",
            "Method:                       css-mle   S.D. of innovations              1.169\n",
            "Date:                Fri, 24 Jul 2020   AIC                          15823.477\n",
            "Time:                        05:17:27   BIC                          15856.083\n",
            "Sample:                    01-10-1994   HQIC                         15834.902\n",
            "                         - 04-05-2013                                         \n",
            "=================================================================================\n",
            "                    coef    std err          z      P>|z|      [0.025      0.975]\n",
            "---------------------------------------------------------------------------------\n",
            "const             0.0189      0.014      1.330      0.184      -0.009       0.047\n",
            "ar.L1.returns    -0.0283      0.014     -2.011      0.044      -0.056      -0.001\n",
            "ar.L2.returns    -0.0521      0.014     -3.705      0.000      -0.080      -0.025\n",
            "ar.L3.returns    -0.0815      0.014     -5.792      0.000      -0.109      -0.054\n",
            "                                    Roots                                    \n",
            "=============================================================================\n",
            "                  Real          Imaginary           Modulus         Frequency\n",
            "-----------------------------------------------------------------------------\n",
            "AR.1            0.9233           -2.0210j            2.2219           -0.1818\n",
            "AR.2            0.9233           +2.0210j            2.2219            0.1818\n",
            "AR.3           -2.4855           -0.0000j            2.4855           -0.5000\n",
            "-----------------------------------------------------------------------------\n",
            "LLR test: 0.0\n"
          ],
          "name": "stdout"
        }
      ]
    },
    {
      "cell_type": "markdown",
      "metadata": {
        "id": "mm9FUmAZHEJt",
        "colab_type": "text"
      },
      "source": [
        "AR(4)"
      ]
    },
    {
      "cell_type": "code",
      "metadata": {
        "id": "Ea895YCEHbif",
        "colab_type": "code",
        "colab": {
          "base_uri": "https://localhost:8080/",
          "height": 476
        },
        "outputId": "049ccca0-3c95-41ab-b064-f80652d8807e"
      },
      "source": [
        "model_ar_4 = ARMA(df.returns[1:], order=(4,0))\n",
        "results_ar_4 = model_ar_4.fit()\n",
        "results_ar_4.summary()\n",
        "print (results_ar_4.summary())\n",
        "print (\"LLR test: \" + str(LLR_test(results_ar_3, results_ar_4)))"
      ],
      "execution_count": null,
      "outputs": [
        {
          "output_type": "stream",
          "text": [
            "                              ARMA Model Results                              \n",
            "==============================================================================\n",
            "Dep. Variable:                returns   No. Observations:                 5020\n",
            "Model:                     ARMA(4, 0)   Log Likelihood               -7901.330\n",
            "Method:                       css-mle   S.D. of innovations              1.168\n",
            "Date:                Fri, 24 Jul 2020   AIC                          15814.661\n",
            "Time:                        05:17:52   BIC                          15853.788\n",
            "Sample:                    01-10-1994   HQIC                         15828.371\n",
            "                         - 04-05-2013                                         \n",
            "=================================================================================\n",
            "                    coef    std err          z      P>|z|      [0.025      0.975]\n",
            "---------------------------------------------------------------------------------\n",
            "const             0.0188      0.015      1.267      0.205      -0.010       0.048\n",
            "ar.L1.returns    -0.0245      0.014     -1.739      0.082      -0.052       0.003\n",
            "ar.L2.returns    -0.0496      0.014     -3.531      0.000      -0.077      -0.022\n",
            "ar.L3.returns    -0.0802      0.014     -5.701      0.000      -0.108      -0.053\n",
            "ar.L4.returns     0.0464      0.014      3.291      0.001       0.019       0.074\n",
            "                                    Roots                                    \n",
            "=============================================================================\n",
            "                  Real          Imaginary           Modulus         Frequency\n",
            "-----------------------------------------------------------------------------\n",
            "AR.1           -1.8888           -0.0000j            1.8888           -0.5000\n",
            "AR.2            0.3231           -1.9331j            1.9599           -0.2236\n",
            "AR.3            0.3231           +1.9331j            1.9599            0.2236\n",
            "AR.4            2.9701           -0.0000j            2.9701           -0.0000\n",
            "-----------------------------------------------------------------------------\n",
            "LLR test: 0.001\n"
          ],
          "name": "stdout"
        }
      ]
    },
    {
      "cell_type": "markdown",
      "metadata": {
        "id": "pnWWhbP0HGcq",
        "colab_type": "text"
      },
      "source": [
        "AR(5)"
      ]
    },
    {
      "cell_type": "code",
      "metadata": {
        "id": "HYsWhVmoHiRE",
        "colab_type": "code",
        "colab": {
          "base_uri": "https://localhost:8080/",
          "height": 510
        },
        "outputId": "26f92676-e866-4a8b-dd59-00a04f4d6298"
      },
      "source": [
        "model_ar_5 = ARMA(df.returns[1:], order=(5,0))\n",
        "results_ar_5 = model_ar_5.fit()\n",
        "results_ar_5.summary()\n",
        "print (results_ar_5.summary())\n",
        "print (\"LLR test: \" + str(LLR_test(results_ar_4, results_ar_5)))"
      ],
      "execution_count": null,
      "outputs": [
        {
          "output_type": "stream",
          "text": [
            "                              ARMA Model Results                              \n",
            "==============================================================================\n",
            "Dep. Variable:                returns   No. Observations:                 5020\n",
            "Model:                     ARMA(5, 0)   Log Likelihood               -7892.390\n",
            "Method:                       css-mle   S.D. of innovations              1.166\n",
            "Date:                Fri, 24 Jul 2020   AIC                          15798.779\n",
            "Time:                        05:18:18   BIC                          15844.428\n",
            "Sample:                    01-10-1994   HQIC                         15814.775\n",
            "                         - 04-05-2013                                         \n",
            "=================================================================================\n",
            "                    coef    std err          z      P>|z|      [0.025      0.975]\n",
            "---------------------------------------------------------------------------------\n",
            "const             0.0189      0.014      1.348      0.178      -0.009       0.046\n",
            "ar.L1.returns    -0.0217      0.014     -1.544      0.123      -0.049       0.006\n",
            "ar.L2.returns    -0.0544      0.014     -3.865      0.000      -0.082      -0.027\n",
            "ar.L3.returns    -0.0831      0.014     -5.914      0.000      -0.111      -0.056\n",
            "ar.L4.returns     0.0449      0.014      3.190      0.001       0.017       0.073\n",
            "ar.L5.returns    -0.0596      0.014     -4.232      0.000      -0.087      -0.032\n",
            "                                    Roots                                    \n",
            "=============================================================================\n",
            "                  Real          Imaginary           Modulus         Frequency\n",
            "-----------------------------------------------------------------------------\n",
            "AR.1           -1.5481           -0.0000j            1.5481           -0.5000\n",
            "AR.2           -0.2860           -1.7252j            1.7487           -0.2761\n",
            "AR.3           -0.2860           +1.7252j            1.7487            0.2761\n",
            "AR.4            1.4366           -1.2157j            1.8819           -0.1118\n",
            "AR.5            1.4366           +1.2157j            1.8819            0.1118\n",
            "-----------------------------------------------------------------------------\n",
            "LLR test: 0.0\n"
          ],
          "name": "stdout"
        }
      ]
    },
    {
      "cell_type": "markdown",
      "metadata": {
        "id": "iF5ikjXeHIZ2",
        "colab_type": "text"
      },
      "source": [
        "AR(6)"
      ]
    },
    {
      "cell_type": "code",
      "metadata": {
        "id": "tWAREE-bHptO",
        "colab_type": "code",
        "colab": {
          "base_uri": "https://localhost:8080/",
          "height": 544
        },
        "outputId": "64a4bd8b-e163-4e27-fba5-a0150d15afc4"
      },
      "source": [
        "model_ar_6 = ARMA(df.returns[1:], order=(6,0))\n",
        "results_ar_6 = model_ar_6.fit()\n",
        "results_ar_6.summary()\n",
        "print (results_ar_6.summary())\n",
        "print (\"LLR test: \" + str(LLR_test(results_ar_5, results_ar_6)))"
      ],
      "execution_count": null,
      "outputs": [
        {
          "output_type": "stream",
          "text": [
            "                              ARMA Model Results                              \n",
            "==============================================================================\n",
            "Dep. Variable:                returns   No. Observations:                 5020\n",
            "Model:                     ARMA(6, 0)   Log Likelihood               -7886.945\n",
            "Method:                       css-mle   S.D. of innovations              1.164\n",
            "Date:                Fri, 24 Jul 2020   AIC                          15789.890\n",
            "Time:                        05:18:35   BIC                          15842.059\n",
            "Sample:                    01-10-1994   HQIC                         15808.170\n",
            "                         - 04-05-2013                                         \n",
            "=================================================================================\n",
            "                    coef    std err          z      P>|z|      [0.025      0.975]\n",
            "---------------------------------------------------------------------------------\n",
            "const             0.0189      0.013      1.414      0.157      -0.007       0.045\n",
            "ar.L1.returns    -0.0245      0.014     -1.740      0.082      -0.052       0.003\n",
            "ar.L2.returns    -0.0523      0.014     -3.716      0.000      -0.080      -0.025\n",
            "ar.L3.returns    -0.0870      0.014     -6.174      0.000      -0.115      -0.059\n",
            "ar.L4.returns     0.0424      0.014      3.009      0.003       0.015       0.070\n",
            "ar.L5.returns    -0.0607      0.014     -4.309      0.000      -0.088      -0.033\n",
            "ar.L6.returns    -0.0466      0.014     -3.302      0.001      -0.074      -0.019\n",
            "                                    Roots                                    \n",
            "=============================================================================\n",
            "                  Real          Imaginary           Modulus         Frequency\n",
            "-----------------------------------------------------------------------------\n",
            "AR.1            1.2869           -0.9022j            1.5716           -0.0973\n",
            "AR.2            1.2869           +0.9022j            1.5716            0.0973\n",
            "AR.3           -0.0727           -1.5282j            1.5299           -0.2576\n",
            "AR.4           -0.0727           +1.5282j            1.5299            0.2576\n",
            "AR.5           -1.8659           -0.4836j            1.9275           -0.4596\n",
            "AR.6           -1.8659           +0.4836j            1.9275            0.4596\n",
            "-----------------------------------------------------------------------------\n",
            "LLR test: 0.001\n"
          ],
          "name": "stdout"
        }
      ]
    },
    {
      "cell_type": "markdown",
      "metadata": {
        "id": "eyaswunNHKdu",
        "colab_type": "text"
      },
      "source": [
        "AR(7)"
      ]
    },
    {
      "cell_type": "code",
      "metadata": {
        "id": "LS1NjAViHzgg",
        "colab_type": "code",
        "colab": {
          "base_uri": "https://localhost:8080/",
          "height": 578
        },
        "outputId": "ad91e4ab-2ed9-43a6-cc71-2f3616fb266e"
      },
      "source": [
        "model_ar_7 = ARMA(df.returns[1:], order=(7,0))\n",
        "results_ar_7 = model_ar_7.fit()\n",
        "results_ar_7.summary()\n",
        "print (results_ar_7.summary())\n",
        "print (\"LLR test: \" + str(LLR_test(results_ar_6, results_ar_7)))"
      ],
      "execution_count": null,
      "outputs": [
        {
          "output_type": "stream",
          "text": [
            "                              ARMA Model Results                              \n",
            "==============================================================================\n",
            "Dep. Variable:                returns   No. Observations:                 5020\n",
            "Model:                     ARMA(7, 0)   Log Likelihood               -7886.647\n",
            "Method:                       css-mle   S.D. of innovations              1.164\n",
            "Date:                Fri, 24 Jul 2020   AIC                          15791.294\n",
            "Time:                        05:18:50   BIC                          15849.985\n",
            "Sample:                    01-10-1994   HQIC                         15811.860\n",
            "                         - 04-05-2013                                         \n",
            "=================================================================================\n",
            "                    coef    std err          z      P>|z|      [0.025      0.975]\n",
            "---------------------------------------------------------------------------------\n",
            "const             0.0189      0.014      1.399      0.162      -0.008       0.045\n",
            "ar.L1.returns    -0.0240      0.014     -1.702      0.089      -0.052       0.004\n",
            "ar.L2.returns    -0.0517      0.014     -3.663      0.000      -0.079      -0.024\n",
            "ar.L3.returns    -0.0874      0.014     -6.202      0.000      -0.115      -0.060\n",
            "ar.L4.returns     0.0433      0.014      3.064      0.002       0.016       0.071\n",
            "ar.L5.returns    -0.0601      0.014     -4.263      0.000      -0.088      -0.032\n",
            "ar.L6.returns    -0.0463      0.014     -3.282      0.001      -0.074      -0.019\n",
            "ar.L7.returns     0.0109      0.014      0.772      0.440      -0.017       0.039\n",
            "                                    Roots                                    \n",
            "=============================================================================\n",
            "                  Real          Imaginary           Modulus         Frequency\n",
            "-----------------------------------------------------------------------------\n",
            "AR.1           -1.6490           -0.5384j            1.7347           -0.4498\n",
            "AR.2           -1.6490           +0.5384j            1.7347            0.4498\n",
            "AR.3           -0.1189           -1.4954j            1.5001           -0.2626\n",
            "AR.4           -0.1189           +1.4954j            1.5001            0.2626\n",
            "AR.5            1.2790           -0.9786j            1.6105           -0.1039\n",
            "AR.6            1.2790           +0.9786j            1.6105            0.1039\n",
            "AR.7            5.2270           -0.0000j            5.2270           -0.0000\n",
            "-----------------------------------------------------------------------------\n",
            "LLR test: 0.44\n"
          ],
          "name": "stdout"
        }
      ]
    },
    {
      "cell_type": "markdown",
      "metadata": {
        "id": "Q8_Jl0YdHN2f",
        "colab_type": "text"
      },
      "source": [
        "AR(8)"
      ]
    },
    {
      "cell_type": "code",
      "metadata": {
        "id": "yIMAr0qSH-H4",
        "colab_type": "code",
        "colab": {
          "base_uri": "https://localhost:8080/",
          "height": 612
        },
        "outputId": "c291352c-2e23-4b23-c9c3-ee08dc1fa3cd"
      },
      "source": [
        "model_ar_8 = ARMA(df.returns[1:], order=(8,0))\n",
        "results_ar_8 = model_ar_8.fit()\n",
        "results_ar_8.summary()\n",
        "print (results_ar_8.summary())\n",
        "print (\"LLR test: \" + str(LLR_test(results_ar_7, results_ar_8)))"
      ],
      "execution_count": null,
      "outputs": [
        {
          "output_type": "stream",
          "text": [
            "                              ARMA Model Results                              \n",
            "==============================================================================\n",
            "Dep. Variable:                returns   No. Observations:                 5020\n",
            "Model:                     ARMA(8, 0)   Log Likelihood               -7885.599\n",
            "Method:                       css-mle   S.D. of innovations              1.164\n",
            "Date:                Fri, 24 Jul 2020   AIC                          15791.199\n",
            "Time:                        05:19:09   BIC                          15856.410\n",
            "Sample:                    01-10-1994   HQIC                         15814.050\n",
            "                         - 04-05-2013                                         \n",
            "=================================================================================\n",
            "                    coef    std err          z      P>|z|      [0.025      0.975]\n",
            "---------------------------------------------------------------------------------\n",
            "const             0.0189      0.014      1.370      0.171      -0.008       0.046\n",
            "ar.L1.returns    -0.0242      0.014     -1.718      0.086      -0.052       0.003\n",
            "ar.L2.returns    -0.0507      0.014     -3.593      0.000      -0.078      -0.023\n",
            "ar.L3.returns    -0.0862      0.014     -6.105      0.000      -0.114      -0.059\n",
            "ar.L4.returns     0.0424      0.014      2.999      0.003       0.015       0.070\n",
            "ar.L5.returns    -0.0583      0.014     -4.122      0.000      -0.086      -0.031\n",
            "ar.L6.returns    -0.0452      0.014     -3.203      0.001      -0.073      -0.018\n",
            "ar.L7.returns     0.0114      0.014      0.807      0.420      -0.016       0.039\n",
            "ar.L8.returns     0.0204      0.014      1.448      0.148      -0.007       0.048\n",
            "                                    Roots                                    \n",
            "=============================================================================\n",
            "                  Real          Imaginary           Modulus         Frequency\n",
            "-----------------------------------------------------------------------------\n",
            "AR.1            1.1098           -1.0020j            1.4952           -0.1169\n",
            "AR.2            1.1098           +1.0020j            1.4952            0.1169\n",
            "AR.3            1.9402           -0.0000j            1.9402           -0.0000\n",
            "AR.4           -0.0601           -1.4119j            1.4131           -0.2568\n",
            "AR.5           -0.0601           +1.4119j            1.4131            0.2568\n",
            "AR.6           -1.4935           -1.1306j            1.8731           -0.3969\n",
            "AR.7           -1.4935           +1.1306j            1.8731            0.3969\n",
            "AR.8           -1.6104           -0.0000j            1.6104           -0.5000\n",
            "-----------------------------------------------------------------------------\n",
            "LLR test: 0.148\n"
          ],
          "name": "stdout"
        }
      ]
    },
    {
      "cell_type": "markdown",
      "metadata": {
        "id": "Q6-jqVJEIZyA",
        "colab_type": "text"
      },
      "source": [
        "Evaluamos los modelos"
      ]
    },
    {
      "cell_type": "code",
      "metadata": {
        "id": "dCTuAXNCJh8J",
        "colab_type": "code",
        "colab": {
          "base_uri": "https://localhost:8080/",
          "height": 34
        },
        "outputId": "b3edb7e1-d501-4beb-e0db-3d8ec30222e4"
      },
      "source": [
        "print(\"LLR test: \" + str(LLR_test(results_ar_2, results_ar_6, DF = 4)))"
      ],
      "execution_count": null,
      "outputs": [
        {
          "output_type": "stream",
          "text": [
            "LLR test: 0.0\n"
          ],
          "name": "stdout"
        }
      ]
    }
  ]
}